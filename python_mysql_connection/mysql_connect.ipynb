{
 "cells": [
  {
   "cell_type": "code",
   "execution_count": null,
   "metadata": {},
   "outputs": [],
   "source": []
  },
  {
   "cell_type": "code",
   "execution_count": 35,
   "metadata": {},
   "outputs": [],
   "source": [
    "import mysql.connector"
   ]
  },
  {
   "cell_type": "code",
   "execution_count": 36,
   "metadata": {},
   "outputs": [
    {
     "name": "stdout",
     "output_type": "stream",
     "text": [
      "<mysql.connector.connection_cext.CMySQLConnection object at 0x0000000007A26160>\n"
     ]
    }
   ],
   "source": [
    "mydb = mysql.connector.connect(\n",
    "  host=\"localhost\",\n",
    "  user=\"root\",\n",
    "  passwd=\"free1234\",\n",
    "  database='classicmodels'  \n",
    "  #passwd=\"*E75E2A576177BA140498EB7479B76C4C36604346\"\n",
    ")\n",
    "\n",
    "print(mydb)"
   ]
  },
  {
   "cell_type": "code",
   "execution_count": 37,
   "metadata": {},
   "outputs": [
    {
     "name": "stdout",
     "output_type": "stream",
     "text": [
      "<class 'list'>\n",
      "[(1, 'HDFC', 11), (2, 'AXIS', 12), (3, 'SBI', 13), (4, 'ICICI', 14), (5, 'KOTAK', 15), (6, 'PNB', 16)]\n",
      "<class 'tuple'>\n"
     ]
    }
   ],
   "source": [
    "mycursor = mydb.cursor()\n",
    "\n",
    "mycursor.execute(\"SELECT * FROM holdings\")\n",
    "\n",
    "myresult_hol = mycursor.fetchall()\n",
    "print(type(myresult_hol))\n",
    "# for x in myresult:\n",
    "#   print(x)\n",
    "print(myresult_hol)\n",
    "print(type(myresult_hol[0]))"
   ]
  },
  {
   "cell_type": "code",
   "execution_count": 38,
   "metadata": {},
   "outputs": [
    {
     "name": "stdout",
     "output_type": "stream",
     "text": [
      "<class 'list'>\n",
      "[('HDFC', 'hdfc bank'), ('AXIS', 'axis bank'), ('SBI', 'sbi bank'), ('ICICI', 'icici bank'), ('KOTAK', 'kotak bank'), ('PNB', 'pnb bank')]\n"
     ]
    }
   ],
   "source": [
    "mycursor = mydb.cursor()\n",
    "\n",
    "mycursor.execute(\"SELECT * FROM translation\")\n",
    "\n",
    "myresult_tra = mycursor.fetchall()\n",
    "print(type(myresult_tra))\n",
    "# for x in myresult:\n",
    "#   print(x)\n",
    "print(myresult_tra)"
   ]
  },
  {
   "cell_type": "code",
   "execution_count": 39,
   "metadata": {},
   "outputs": [],
   "source": [
    "dict={}\n",
    "for i in myresult_tra:\n",
    "    dict[i[0]]=i[1]"
   ]
  },
  {
   "cell_type": "code",
   "execution_count": 40,
   "metadata": {},
   "outputs": [
    {
     "name": "stdout",
     "output_type": "stream",
     "text": [
      "{'HDFC': 'hdfc bank', 'AXIS': 'axis bank', 'SBI': 'sbi bank', 'ICICI': 'icici bank', 'KOTAK': 'kotak bank', 'PNB': 'pnb bank'}\n"
     ]
    }
   ],
   "source": [
    "print(dict)"
   ]
  },
  {
   "cell_type": "code",
   "execution_count": 41,
   "metadata": {},
   "outputs": [],
   "source": [
    "list_tup=list()\n",
    "for item in myresult_hol:\n",
    "    list_tup.append((item[0],dict.get(item[1]),item[2]))"
   ]
  },
  {
   "cell_type": "code",
   "execution_count": 42,
   "metadata": {},
   "outputs": [
    {
     "data": {
      "text/plain": [
       "[(1, 'hdfc bank', 11),\n",
       " (2, 'axis bank', 12),\n",
       " (3, 'sbi bank', 13),\n",
       " (4, 'icici bank', 14),\n",
       " (5, 'kotak bank', 15),\n",
       " (6, 'pnb bank', 16)]"
      ]
     },
     "execution_count": 42,
     "metadata": {},
     "output_type": "execute_result"
    }
   ],
   "source": [
    "list_tup"
   ]
  },
  {
   "cell_type": "code",
   "execution_count": 43,
   "metadata": {},
   "outputs": [],
   "source": [
    "mycursor.execute(\"CREATE TABLE new_holdings (acc int, sec_nm VARCHAR(255), sec_id int)\")"
   ]
  },
  {
   "cell_type": "code",
   "execution_count": 45,
   "metadata": {},
   "outputs": [
    {
     "name": "stdout",
     "output_type": "stream",
     "text": [
      "1 record inserted.\n",
      "1 record inserted.\n",
      "1 record inserted.\n",
      "1 record inserted.\n",
      "1 record inserted.\n",
      "1 record inserted.\n"
     ]
    }
   ],
   "source": [
    "\n",
    "sql = \"INSERT INTO new_holdings (acc , sec_nm , sec_id ) VALUES (%s,%s, %s)\"\n",
    "\n",
    "for ele in list_tup:\n",
    "    val = ele\n",
    "    mycursor.execute(sql, val)\n",
    "    print(mycursor.rowcount, \"record inserted.\")\n",
    "mydb.commit()\n",
    "\n"
   ]
  },
  {
   "cell_type": "code",
   "execution_count": 49,
   "metadata": {},
   "outputs": [
    {
     "ename": "NameError",
     "evalue": "name 'mycursor' is not defined",
     "output_type": "error",
     "traceback": [
      "\u001b[1;31m---------------------------------------------------------------------------\u001b[0m",
      "\u001b[1;31mNameError\u001b[0m                                 Traceback (most recent call last)",
      "\u001b[1;32m<ipython-input-49-c95efc8d8150>\u001b[0m in \u001b[0;36m<module>\u001b[1;34m()\u001b[0m\n\u001b[1;32m----> 1\u001b[1;33m \u001b[0mmycursor\u001b[0m\u001b[1;33m.\u001b[0m\u001b[0mclose\u001b[0m\u001b[1;33m(\u001b[0m\u001b[1;33m)\u001b[0m\u001b[1;33m\u001b[0m\u001b[0m\n\u001b[0m\u001b[0;32m      2\u001b[0m \u001b[1;31m# mycursor.connection          # None\u001b[0m\u001b[1;33m\u001b[0m\u001b[1;33m\u001b[0m\u001b[0m\n\u001b[0;32m      3\u001b[0m \u001b[1;31m# mycursor.connection.close()  # throws AttributeError, but connection still open\u001b[0m\u001b[1;33m\u001b[0m\u001b[1;33m\u001b[0m\u001b[0m\n\u001b[0;32m      4\u001b[0m \u001b[1;32mdel\u001b[0m \u001b[0mmycursor\u001b[0m\u001b[1;33m\u001b[0m\u001b[0m\n\u001b[0;32m      5\u001b[0m \u001b[0mmydb\u001b[0m\u001b[1;33m.\u001b[0m\u001b[0mclose\u001b[0m\u001b[1;33m(\u001b[0m\u001b[1;33m)\u001b[0m\u001b[1;33m\u001b[0m\u001b[0m\n",
      "\u001b[1;31mNameError\u001b[0m: name 'mycursor' is not defined"
     ]
    }
   ],
   "source": [
    "mycursor.close()\n",
    "# mycursor.connection          # None\n",
    "# mycursor.connection.close()  # throws AttributeError, but connection still open\n",
    "del mycursor     \n",
    "# mydb.close()"
   ]
  },
  {
   "cell_type": "code",
   "execution_count": 50,
   "metadata": {},
   "outputs": [],
   "source": [
    "mydb.close()"
   ]
  },
  {
   "cell_type": "code",
   "execution_count": 51,
   "metadata": {},
   "outputs": [],
   "source": [
    "# mycursor.execute(\"CREATE TABLE new_holdings_2 (acc int, sec_nm VARCHAR(255), sec_id int)\")"
   ]
  },
  {
   "cell_type": "code",
   "execution_count": null,
   "metadata": {},
   "outputs": [],
   "source": [
    "from contextlib import closing\n",
    "import MySQLdb\n",
    "\n",
    "''' At the beginning you open a DB connection. Particular moment when\n",
    "  you open connection depends from your approach:\n",
    "  - it can be inside the same function where you work with cursors\n",
    "  - in the class constructor\n",
    "  - etc\n",
    "'''\n",
    "db = MySQLdb.connect(\"host\", \"user\", \"pass\", \"database\")\n",
    "with closing(db.cursor()) as cur:\n",
    "    cur.execute(\"somestuff\")\n",
    "    results = cur.fetchall()\n",
    "    # do stuff with results\n",
    "\n",
    "    cur.execute(\"insert operation\")\n",
    "    # call commit if you do INSERT, UPDATE or DELETE operations\n",
    "    db.commit()\n",
    "\n",
    "    cur.execute(\"someotherstuff\")\n",
    "    results2 = cur.fetchone()\n",
    "    # do stuff with results2\n",
    "\n",
    "# at some point when you decided that you do not need\n",
    "# the open connection anymore you close it\n",
    "db.close()"
   ]
  }
 ],
 "metadata": {
  "kernelspec": {
   "display_name": "Python 3",
   "language": "python",
   "name": "python3"
  },
  "language_info": {
   "codemirror_mode": {
    "name": "ipython",
    "version": 3
   },
   "file_extension": ".py",
   "mimetype": "text/x-python",
   "name": "python",
   "nbconvert_exporter": "python",
   "pygments_lexer": "ipython3",
   "version": "3.6.4"
  }
 },
 "nbformat": 4,
 "nbformat_minor": 2
}
