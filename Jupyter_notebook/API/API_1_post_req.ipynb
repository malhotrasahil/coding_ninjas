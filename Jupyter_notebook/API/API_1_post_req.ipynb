{
 "cells": [
  {
   "cell_type": "code",
   "execution_count": 2,
   "metadata": {},
   "outputs": [
    {
     "name": "stdout",
     "output_type": "stream",
     "text": [
      "https://jsonplaceholder.typicode.com/posts\n",
      "{\n",
      "  \"id\": 101\n",
      "}\n",
      "201\n"
     ]
    }
   ],
   "source": [
    "import json\n",
    "import requests\n",
    "response=requests.post(\"https://jsonplaceholder.typicode.com/posts\")\n",
    "print(response.url)\n",
    "print(response.text)\n",
    "print(response.status_code)"
   ]
  },
  {
   "cell_type": "code",
   "execution_count": 4,
   "metadata": {},
   "outputs": [
    {
     "name": "stdout",
     "output_type": "stream",
     "text": [
      "https://jsonplaceholder.typicode.com/posts\n",
      "{\n",
      "  \"userid\": \"102\",\n",
      "  \"name\": \"sahil\",\n",
      "  \"id\": 101\n",
      "}\n",
      "201\n",
      "<Response [201]>\n"
     ]
    }
   ],
   "source": [
    "response=requests.post(\"https://jsonplaceholder.typicode.com/posts\",data={'userid':'102','name':'sahil'})\n",
    "print(response.url)\n",
    "print(response.text)\n",
    "print(response.status_code)\n",
    "print(response)"
   ]
  },
  {
   "cell_type": "code",
   "execution_count": null,
   "metadata": {},
   "outputs": [],
   "source": []
  },
  {
   "cell_type": "code",
   "execution_count": null,
   "metadata": {},
   "outputs": [],
   "source": []
  },
  {
   "cell_type": "code",
   "execution_count": null,
   "metadata": {},
   "outputs": [],
   "source": []
  },
  {
   "cell_type": "code",
   "execution_count": null,
   "metadata": {},
   "outputs": [],
   "source": []
  }
 ],
 "metadata": {
  "kernelspec": {
   "display_name": "Python 3",
   "language": "python",
   "name": "python3"
  },
  "language_info": {
   "codemirror_mode": {
    "name": "ipython",
    "version": 3
   },
   "file_extension": ".py",
   "mimetype": "text/x-python",
   "name": "python",
   "nbconvert_exporter": "python",
   "pygments_lexer": "ipython3",
   "version": "3.6.4"
  }
 },
 "nbformat": 4,
 "nbformat_minor": 2
}
