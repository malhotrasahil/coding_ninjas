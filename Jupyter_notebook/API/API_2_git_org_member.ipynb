{
 "cells": [
  {
   "cell_type": "code",
   "execution_count": 14,
   "metadata": {},
   "outputs": [],
   "source": [
    "import requests\n",
    "import json\n",
    "import pandas as pd\n",
    "from pandas.io.json import json_normalize"
   ]
  },
  {
   "cell_type": "code",
   "execution_count": null,
   "metadata": {},
   "outputs": [],
   "source": []
  },
  {
   "cell_type": "code",
   "execution_count": 22,
   "metadata": {},
   "outputs": [
    {
     "name": "stdout",
     "output_type": "stream",
     "text": [
      "[{\"login\":\"ManishaKhattar\",\"id\":8034683,\"node_id\":\"MDQ6VXNlcjgwMzQ2ODM=\",\"avatar_url\":\"https://avatars2.githubusercontent.com/u/8034683?v=4\",\"gravatar_id\":\"\",\"url\":\"https://api.github.com/users/ManishaKhattar\",\"html_url\":\"https://github.com/ManishaKhattar\",\"followers_url\":\"https://api.github.com/users/ManishaKhattar/followers\",\"following_url\":\"https://api.github.com/users/ManishaKhattar/following{/other_user}\",\"gists_url\":\"https://api.github.com/users/ManishaKhattar/gists{/gist_id}\",\"starred_url\":\"https://api.github.com/users/ManishaKhattar/starred{/owner}{/repo}\",\"subscriptions_url\":\"https://api.github.com/users/ManishaKhattar/subscriptions\",\"organizations_url\":\"https://api.github.com/users/ManishaKhattar/orgs\",\"repos_url\":\"https://api.github.com/users/ManishaKhattar/repos\",\"events_url\":\"https://api.github.com/users/ManishaKhattar/events{/privacy}\",\"received_events_url\":\"https://api.github.com/users/ManishaKhattar/received_events\",\"type\":\"User\",\"site_admin\":false},{\"login\":\"nidhiagarwal\",\"id\":6631534,\"node_id\":\"MDQ6VXNlcjY2MzE1MzQ=\",\"avatar_url\":\"https://avatars1.githubusercontent.com/u/6631534?v=4\",\"gravatar_id\":\"\",\"url\":\"https://api.github.com/users/nidhiagarwal\",\"html_url\":\"https://github.com/nidhiagarwal\",\"followers_url\":\"https://api.github.com/users/nidhiagarwal/followers\",\"following_url\":\"https://api.github.com/users/nidhiagarwal/following{/other_user}\",\"gists_url\":\"https://api.github.com/users/nidhiagarwal/gists{/gist_id}\",\"starred_url\":\"https://api.github.com/users/nidhiagarwal/starred{/owner}{/repo}\",\"subscriptions_url\":\"https://api.github.com/users/nidhiagarwal/subscriptions\",\"organizations_url\":\"https://api.github.com/users/nidhiagarwal/orgs\",\"repos_url\":\"https://api.github.com/users/nidhiagarwal/repos\",\"events_url\":\"https://api.github.com/users/nidhiagarwal/events{/privacy}\",\"received_events_url\":\"https://api.github.com/users/nidhiagarwal/received_events\",\"type\":\"User\",\"site_admin\":false},{\"login\":\"rohanraarora\",\"id\":6624213,\"node_id\":\"MDQ6VXNlcjY2MjQyMTM=\",\"avatar_url\":\"https://avatars3.githubusercontent.com/u/6624213?v=4\",\"gravatar_id\":\"\",\"url\":\"https://api.github.com/users/rohanraarora\",\"html_url\":\"https://github.com/rohanraarora\",\"followers_url\":\"https://api.github.com/users/rohanraarora/followers\",\"following_url\":\"https://api.github.com/users/rohanraarora/following{/other_user}\",\"gists_url\":\"https://api.github.com/users/rohanraarora/gists{/gist_id}\",\"starred_url\":\"https://api.github.com/users/rohanraarora/starred{/owner}{/repo}\",\"subscriptions_url\":\"https://api.github.com/users/rohanraarora/subscriptions\",\"organizations_url\":\"https://api.github.com/users/rohanraarora/orgs\",\"repos_url\":\"https://api.github.com/users/rohanraarora/repos\",\"events_url\":\"https://api.github.com/users/rohanraarora/events{/privacy}\",\"received_events_url\":\"https://api.github.com/users/rohanraarora/received_events\",\"type\":\"User\",\"site_admin\":false},{\"login\":\"tushartuteja\",\"id\":5651179,\"node_id\":\"MDQ6VXNlcjU2NTExNzk=\",\"avatar_url\":\"https://avatars2.githubusercontent.com/u/5651179?v=4\",\"gravatar_id\":\"\",\"url\":\"https://api.github.com/users/tushartuteja\",\"html_url\":\"https://github.com/tushartuteja\",\"followers_url\":\"https://api.github.com/users/tushartuteja/followers\",\"following_url\":\"https://api.github.com/users/tushartuteja/following{/other_user}\",\"gists_url\":\"https://api.github.com/users/tushartuteja/gists{/gist_id}\",\"starred_url\":\"https://api.github.com/users/tushartuteja/starred{/owner}{/repo}\",\"subscriptions_url\":\"https://api.github.com/users/tushartuteja/subscriptions\",\"organizations_url\":\"https://api.github.com/users/tushartuteja/orgs\",\"repos_url\":\"https://api.github.com/users/tushartuteja/repos\",\"events_url\":\"https://api.github.com/users/tushartuteja/events{/privacy}\",\"received_events_url\":\"https://api.github.com/users/tushartuteja/received_events\",\"type\":\"User\",\"site_admin\":false}]\n",
      "https://api.github.com/orgs/CodingNinjasCodes/public_members\n"
     ]
    }
   ],
   "source": [
    "# \n",
    "res=requests.get(\"https://api.github.com/orgs/CodingNinjasCodes/public_members\")\n",
    "res1=res.json()\n",
    "res1=json.loads(res.text)\n",
    "\n",
    "print(res.text)\n",
    "print(res.url)"
   ]
  },
  {
   "cell_type": "code",
   "execution_count": 23,
   "metadata": {},
   "outputs": [
    {
     "name": "stdout",
     "output_type": "stream",
     "text": [
      "ManishaKhattar\n",
      "nidhiagarwal\n",
      "rohanraarora\n",
      "tushartuteja\n"
     ]
    }
   ],
   "source": [
    "for i in res1:\n",
    "    print(i['login'])"
   ]
  },
  {
   "cell_type": "code",
   "execution_count": null,
   "metadata": {},
   "outputs": [],
   "source": []
  },
  {
   "cell_type": "code",
   "execution_count": null,
   "metadata": {},
   "outputs": [],
   "source": []
  },
  {
   "cell_type": "code",
   "execution_count": null,
   "metadata": {},
   "outputs": [],
   "source": []
  },
  {
   "cell_type": "code",
   "execution_count": null,
   "metadata": {},
   "outputs": [],
   "source": []
  },
  {
   "cell_type": "code",
   "execution_count": null,
   "metadata": {},
   "outputs": [],
   "source": []
  }
 ],
 "metadata": {
  "kernelspec": {
   "display_name": "Python 3",
   "language": "python",
   "name": "python3"
  },
  "language_info": {
   "codemirror_mode": {
    "name": "ipython",
    "version": 3
   },
   "file_extension": ".py",
   "mimetype": "text/x-python",
   "name": "python",
   "nbconvert_exporter": "python",
   "pygments_lexer": "ipython3",
   "version": "3.6.4"
  }
 },
 "nbformat": 4,
 "nbformat_minor": 2
}
