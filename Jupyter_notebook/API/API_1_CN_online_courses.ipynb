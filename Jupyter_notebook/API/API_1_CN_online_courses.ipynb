{
 "cells": [
  {
   "cell_type": "code",
   "execution_count": 1,
   "metadata": {},
   "outputs": [],
   "source": [
    "import requests\n",
    "import json\n",
    "response=requests.get(\"https://codingninjas.in/api/v3/courses\")"
   ]
  },
  {
   "cell_type": "code",
   "execution_count": 5,
   "metadata": {},
   "outputs": [],
   "source": [
    "py_data=response.json()\n",
    "courses_list=py_data['data']['courses']\n",
    "# courses_list"
   ]
  },
  {
   "cell_type": "code",
   "execution_count": 6,
   "metadata": {},
   "outputs": [
    {
     "name": "stdout",
     "output_type": "stream",
     "text": [
      "Nucleus\n",
      "Competitive Programming\n",
      "Ninja Data Scientist Career Track\n",
      "Aptitude Preparation Course\n",
      "Inception\n",
      "Python\n",
      "Ninja Competitive Programmer Track\n",
      "Interview Preparation\n",
      "Programming Foundation DS & Algo + Machine Learning\n",
      "Machine Learning Course\n",
      "Data Science & Machine Learning Complete\n",
      "Programming Foundation DS & Algo + Full Stack web Dev with Node.js\n",
      "Full Stack Web Development Course in Node.js\n"
     ]
    }
   ],
   "source": [
    "for i in courses_list:\n",
    "    if i['available_online']==True:\n",
    "        print(i['title'])"
   ]
  },
  {
   "cell_type": "code",
   "execution_count": null,
   "metadata": {},
   "outputs": [],
   "source": []
  },
  {
   "cell_type": "code",
   "execution_count": null,
   "metadata": {},
   "outputs": [],
   "source": []
  },
  {
   "cell_type": "code",
   "execution_count": null,
   "metadata": {},
   "outputs": [],
   "source": []
  }
 ],
 "metadata": {
  "kernelspec": {
   "display_name": "Python 3",
   "language": "python",
   "name": "python3"
  },
  "language_info": {
   "codemirror_mode": {
    "name": "ipython",
    "version": 3
   },
   "file_extension": ".py",
   "mimetype": "text/x-python",
   "name": "python",
   "nbconvert_exporter": "python",
   "pygments_lexer": "ipython3",
   "version": "3.6.4"
  }
 },
 "nbformat": 4,
 "nbformat_minor": 2
}
