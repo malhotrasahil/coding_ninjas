{
 "cells": [
  {
   "cell_type": "code",
   "execution_count": null,
   "metadata": {},
   "outputs": [],
   "source": [
    "#12544df9-2d3d-4fad-835d-0abb0a95ad24"
   ]
  },
  {
   "cell_type": "code",
   "execution_count": null,
   "metadata": {},
   "outputs": [],
   "source": [
    "#/v1/countries"
   ]
  },
  {
   "cell_type": "code",
   "execution_count": 5,
   "metadata": {},
   "outputs": [
    {
     "name": "stdout",
     "output_type": "stream",
     "text": [
      "https://holidayapi.com/v1/countries?key=12544df9-2d3d-4fad-835d-0abb0a95ad24\n",
      "200\n"
     ]
    }
   ],
   "source": [
    "import requests\n",
    "import json\n",
    "response=requests.get(\"https://holidayapi.com/v1/countries\", params={'key':'12544df9-2d3d-4fad-835d-0abb0a95ad24'})\n",
    "print(response.url)\n",
    "print(response.status_code)"
   ]
  },
  {
   "cell_type": "code",
   "execution_count": 6,
   "metadata": {},
   "outputs": [],
   "source": [
    "py_data=response.json()"
   ]
  },
  {
   "cell_type": "code",
   "execution_count": 7,
   "metadata": {},
   "outputs": [],
   "source": [
    "countries_list=py_data['countries']"
   ]
  },
  {
   "cell_type": "code",
   "execution_count": 9,
   "metadata": {},
   "outputs": [],
   "source": [
    "for i in countries_list:\n",
    "    if i['name']=='India':\n",
    "        code=i['code']"
   ]
  },
  {
   "cell_type": "code",
   "execution_count": 10,
   "metadata": {},
   "outputs": [
    {
     "name": "stdout",
     "output_type": "stream",
     "text": [
      "https://holidayapi.com/v1/holidays?key=12544df9-2d3d-4fad-835d-0abb0a95ad24&country=IN&year=2018&month=10&date=2\n",
      "200\n"
     ]
    }
   ],
   "source": [
    "\n",
    "response=requests.get(\"https://holidayapi.com/v1/holidays\", params={'key':'12544df9-2d3d-4fad-835d-0abb0a95ad24','country':code,'year':2018,'month':10,'date':2})\n",
    "print(response.url)\n",
    "print(response.status_code)"
   ]
  },
  {
   "cell_type": "code",
   "execution_count": 11,
   "metadata": {},
   "outputs": [],
   "source": [
    "py_data=response.json()"
   ]
  },
  {
   "cell_type": "code",
   "execution_count": 12,
   "metadata": {},
   "outputs": [],
   "source": [
    "holidays_list=py_data['holidays']"
   ]
  },
  {
   "cell_type": "code",
   "execution_count": 13,
   "metadata": {},
   "outputs": [
    {
     "name": "stdout",
     "output_type": "stream",
     "text": [
      "Mahatma Gandhi Jayanti\n"
     ]
    }
   ],
   "source": [
    "for i in holidays_list:\n",
    "    if i['date']==\"2018-10-02\":\n",
    "        print(i['name'])"
   ]
  },
  {
   "cell_type": "code",
   "execution_count": null,
   "metadata": {},
   "outputs": [],
   "source": []
  }
 ],
 "metadata": {
  "kernelspec": {
   "display_name": "Python 3",
   "language": "python",
   "name": "python3"
  },
  "language_info": {
   "codemirror_mode": {
    "name": "ipython",
    "version": 3
   },
   "file_extension": ".py",
   "mimetype": "text/x-python",
   "name": "python",
   "nbconvert_exporter": "python",
   "pygments_lexer": "ipython3",
   "version": "3.6.4"
  }
 },
 "nbformat": 4,
 "nbformat_minor": 2
}
