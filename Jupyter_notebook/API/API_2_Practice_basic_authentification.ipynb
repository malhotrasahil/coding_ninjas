{
 "cells": [
  {
   "cell_type": "code",
   "execution_count": 2,
   "metadata": {},
   "outputs": [],
   "source": [
    "import requests\n",
    "import json\n",
    "from requests.auth import HTTPBasicAuth"
   ]
  },
  {
   "cell_type": "code",
   "execution_count": 10,
   "metadata": {},
   "outputs": [
    {
     "name": "stdout",
     "output_type": "stream",
     "text": [
      "200\n"
     ]
    }
   ],
   "source": [
    "a=requests.get('https://api.github.com/user', auth=HTTPBasicAuth('malhotrasahil','Raghav@9896'))\n",
    "print(a.status_code)"
   ]
  },
  {
   "cell_type": "code",
   "execution_count": 11,
   "metadata": {},
   "outputs": [
    {
     "name": "stdout",
     "output_type": "stream",
     "text": [
      "{\"login\":\"malhotrasahil\",\"id\":54015993,\"node_id\":\"MDQ6VXNlcjU0MDE1OTkz\",\"avatar_url\":\"https://avatars2.githubusercontent.com/u/54015993?v=4\",\"gravatar_id\":\"\",\"url\":\"https://api.github.com/users/malhotrasahil\",\"html_url\":\"https://github.com/malhotrasahil\",\"followers_url\":\"https://api.github.com/users/malhotrasahil/followers\",\"following_url\":\"https://api.github.com/users/malhotrasahil/following{/other_user}\",\"gists_url\":\"https://api.github.com/users/malhotrasahil/gists{/gist_id}\",\"starred_url\":\"https://api.github.com/users/malhotrasahil/starred{/owner}{/repo}\",\"subscriptions_url\":\"https://api.github.com/users/malhotrasahil/subscriptions\",\"organizations_url\":\"https://api.github.com/users/malhotrasahil/orgs\",\"repos_url\":\"https://api.github.com/users/malhotrasahil/repos\",\"events_url\":\"https://api.github.com/users/malhotrasahil/events{/privacy}\",\"received_events_url\":\"https://api.github.com/users/malhotrasahil/received_events\",\"type\":\"User\",\"site_admin\":false,\"name\":null,\"company\":null,\"blog\":\"\",\"location\":null,\"email\":null,\"hireable\":null,\"bio\":null,\"public_repos\":1,\"public_gists\":0,\"followers\":0,\"following\":0,\"created_at\":\"2019-08-12T05:18:34Z\",\"updated_at\":\"2019-08-12T05:18:34Z\",\"private_gists\":0,\"total_private_repos\":0,\"owned_private_repos\":0,\"disk_usage\":0,\"collaborators\":0,\"two_factor_authentication\":false,\"plan\":{\"name\":\"free\",\"space\":976562499,\"collaborators\":0,\"private_repos\":10000}}\n"
     ]
    }
   ],
   "source": [
    "print(a.text)"
   ]
  },
  {
   "cell_type": "code",
   "execution_count": 24,
   "metadata": {},
   "outputs": [
    {
     "name": "stdout",
     "output_type": "stream",
     "text": [
      "201\n"
     ]
    }
   ],
   "source": [
    "info={'name':'test_repo2','description':'Created via API call','auto_init':'true'}\n",
    "a=requests.post('https://api.github.com/user/repos',data=json.dumps(info), auth=HTTPBasicAuth('malhotrasahil','Raghav@9896'))\n",
    "print(a.status_code)"
   ]
  },
  {
   "cell_type": "code",
   "execution_count": 25,
   "metadata": {},
   "outputs": [
    {
     "name": "stdout",
     "output_type": "stream",
     "text": [
      "{\"id\":201870150,\"node_id\":\"MDEwOlJlcG9zaXRvcnkyMDE4NzAxNTA=\",\"name\":\"test_repo2\",\"full_name\":\"malhotrasahil/test_repo2\",\"private\":false,\"owner\":{\"login\":\"malhotrasahil\",\"id\":54015993,\"node_id\":\"MDQ6VXNlcjU0MDE1OTkz\",\"avatar_url\":\"https://avatars2.githubusercontent.com/u/54015993?v=4\",\"gravatar_id\":\"\",\"url\":\"https://api.github.com/users/malhotrasahil\",\"html_url\":\"https://github.com/malhotrasahil\",\"followers_url\":\"https://api.github.com/users/malhotrasahil/followers\",\"following_url\":\"https://api.github.com/users/malhotrasahil/following{/other_user}\",\"gists_url\":\"https://api.github.com/users/malhotrasahil/gists{/gist_id}\",\"starred_url\":\"https://api.github.com/users/malhotrasahil/starred{/owner}{/repo}\",\"subscriptions_url\":\"https://api.github.com/users/malhotrasahil/subscriptions\",\"organizations_url\":\"https://api.github.com/users/malhotrasahil/orgs\",\"repos_url\":\"https://api.github.com/users/malhotrasahil/repos\",\"events_url\":\"https://api.github.com/users/malhotrasahil/events{/privacy}\",\"received_events_url\":\"https://api.github.com/users/malhotrasahil/received_events\",\"type\":\"User\",\"site_admin\":false},\"html_url\":\"https://github.com/malhotrasahil/test_repo2\",\"description\":\"Created via API call\",\"fork\":false,\"url\":\"https://api.github.com/repos/malhotrasahil/test_repo2\",\"forks_url\":\"https://api.github.com/repos/malhotrasahil/test_repo2/forks\",\"keys_url\":\"https://api.github.com/repos/malhotrasahil/test_repo2/keys{/key_id}\",\"collaborators_url\":\"https://api.github.com/repos/malhotrasahil/test_repo2/collaborators{/collaborator}\",\"teams_url\":\"https://api.github.com/repos/malhotrasahil/test_repo2/teams\",\"hooks_url\":\"https://api.github.com/repos/malhotrasahil/test_repo2/hooks\",\"issue_events_url\":\"https://api.github.com/repos/malhotrasahil/test_repo2/issues/events{/number}\",\"events_url\":\"https://api.github.com/repos/malhotrasahil/test_repo2/events\",\"assignees_url\":\"https://api.github.com/repos/malhotrasahil/test_repo2/assignees{/user}\",\"branches_url\":\"https://api.github.com/repos/malhotrasahil/test_repo2/branches{/branch}\",\"tags_url\":\"https://api.github.com/repos/malhotrasahil/test_repo2/tags\",\"blobs_url\":\"https://api.github.com/repos/malhotrasahil/test_repo2/git/blobs{/sha}\",\"git_tags_url\":\"https://api.github.com/repos/malhotrasahil/test_repo2/git/tags{/sha}\",\"git_refs_url\":\"https://api.github.com/repos/malhotrasahil/test_repo2/git/refs{/sha}\",\"trees_url\":\"https://api.github.com/repos/malhotrasahil/test_repo2/git/trees{/sha}\",\"statuses_url\":\"https://api.github.com/repos/malhotrasahil/test_repo2/statuses/{sha}\",\"languages_url\":\"https://api.github.com/repos/malhotrasahil/test_repo2/languages\",\"stargazers_url\":\"https://api.github.com/repos/malhotrasahil/test_repo2/stargazers\",\"contributors_url\":\"https://api.github.com/repos/malhotrasahil/test_repo2/contributors\",\"subscribers_url\":\"https://api.github.com/repos/malhotrasahil/test_repo2/subscribers\",\"subscription_url\":\"https://api.github.com/repos/malhotrasahil/test_repo2/subscription\",\"commits_url\":\"https://api.github.com/repos/malhotrasahil/test_repo2/commits{/sha}\",\"git_commits_url\":\"https://api.github.com/repos/malhotrasahil/test_repo2/git/commits{/sha}\",\"comments_url\":\"https://api.github.com/repos/malhotrasahil/test_repo2/comments{/number}\",\"issue_comment_url\":\"https://api.github.com/repos/malhotrasahil/test_repo2/issues/comments{/number}\",\"contents_url\":\"https://api.github.com/repos/malhotrasahil/test_repo2/contents/{+path}\",\"compare_url\":\"https://api.github.com/repos/malhotrasahil/test_repo2/compare/{base}...{head}\",\"merges_url\":\"https://api.github.com/repos/malhotrasahil/test_repo2/merges\",\"archive_url\":\"https://api.github.com/repos/malhotrasahil/test_repo2/{archive_format}{/ref}\",\"downloads_url\":\"https://api.github.com/repos/malhotrasahil/test_repo2/downloads\",\"issues_url\":\"https://api.github.com/repos/malhotrasahil/test_repo2/issues{/number}\",\"pulls_url\":\"https://api.github.com/repos/malhotrasahil/test_repo2/pulls{/number}\",\"milestones_url\":\"https://api.github.com/repos/malhotrasahil/test_repo2/milestones{/number}\",\"notifications_url\":\"https://api.github.com/repos/malhotrasahil/test_repo2/notifications{?since,all,participating}\",\"labels_url\":\"https://api.github.com/repos/malhotrasahil/test_repo2/labels{/name}\",\"releases_url\":\"https://api.github.com/repos/malhotrasahil/test_repo2/releases{/id}\",\"deployments_url\":\"https://api.github.com/repos/malhotrasahil/test_repo2/deployments\",\"created_at\":\"2019-08-12T06:23:30Z\",\"updated_at\":\"2019-08-12T06:23:30Z\",\"pushed_at\":\"2019-08-12T06:23:32Z\",\"git_url\":\"git://github.com/malhotrasahil/test_repo2.git\",\"ssh_url\":\"git@github.com:malhotrasahil/test_repo2.git\",\"clone_url\":\"https://github.com/malhotrasahil/test_repo2.git\",\"svn_url\":\"https://github.com/malhotrasahil/test_repo2\",\"homepage\":null,\"size\":0,\"stargazers_count\":0,\"watchers_count\":0,\"language\":null,\"has_issues\":true,\"has_projects\":true,\"has_downloads\":true,\"has_wiki\":true,\"has_pages\":false,\"forks_count\":0,\"mirror_url\":null,\"archived\":false,\"disabled\":false,\"open_issues_count\":0,\"license\":null,\"forks\":0,\"open_issues\":0,\"watchers\":0,\"default_branch\":\"master\",\"permissions\":{\"admin\":true,\"push\":true,\"pull\":true},\"allow_squash_merge\":true,\"allow_merge_commit\":true,\"allow_rebase_merge\":true,\"network_count\":0,\"subscribers_count\":1}\n"
     ]
    }
   ],
   "source": [
    "print(a.text)"
   ]
  },
  {
   "cell_type": "code",
   "execution_count": null,
   "metadata": {},
   "outputs": [],
   "source": []
  },
  {
   "cell_type": "code",
   "execution_count": null,
   "metadata": {},
   "outputs": [],
   "source": []
  },
  {
   "cell_type": "code",
   "execution_count": null,
   "metadata": {},
   "outputs": [],
   "source": []
  },
  {
   "cell_type": "code",
   "execution_count": null,
   "metadata": {},
   "outputs": [],
   "source": []
  },
  {
   "cell_type": "code",
   "execution_count": null,
   "metadata": {},
   "outputs": [],
   "source": []
  },
  {
   "cell_type": "code",
   "execution_count": null,
   "metadata": {},
   "outputs": [],
   "source": []
  }
 ],
 "metadata": {
  "kernelspec": {
   "display_name": "Python 3",
   "language": "python",
   "name": "python3"
  },
  "language_info": {
   "codemirror_mode": {
    "name": "ipython",
    "version": 3
   },
   "file_extension": ".py",
   "mimetype": "text/x-python",
   "name": "python",
   "nbconvert_exporter": "python",
   "pygments_lexer": "ipython3",
   "version": "3.6.4"
  }
 },
 "nbformat": 4,
 "nbformat_minor": 2
}
