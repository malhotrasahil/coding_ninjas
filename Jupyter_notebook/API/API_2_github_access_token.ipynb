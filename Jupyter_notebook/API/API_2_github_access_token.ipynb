{
 "cells": [
  {
   "cell_type": "code",
   "execution_count": 8,
   "metadata": {},
   "outputs": [],
   "source": [
    "import requests\n",
    "import json\n",
    "import pandas as pd\n",
    "from pandas.io.json import json_normalize"
   ]
  },
  {
   "cell_type": "code",
   "execution_count": 22,
   "metadata": {},
   "outputs": [
    {
     "name": "stdout",
     "output_type": "stream",
     "text": [
      "200\n",
      "https://github.com/login?client_id=b305f00a0f7218ec897f&login=malhotrasahil&return_to=%2Flogin%2Foauth%2Fauthorize%3Fclient_id%3Db305f00a0f7218ec897f%26login%3Dmalhotrasahil%26redirect_uri%3Dhttp%253A%252F%252Fwww.google.com%26scope%3Drepo%26state%3DRandom_sahil\n"
     ]
    }
   ],
   "source": [
    "data={'client_id':'b305f00a0f7218ec897f','login':'malhotrasahil','state':'Random_sahil','redirect_uri':'http://www.google.com','scope':'repo'}\n",
    "\n",
    "response=requests.get(\"https://github.com/login/oauth/authorize\",params=data)\n",
    "\n",
    "print(response.status_code)\n",
    "# print(response.text)\n",
    "print(response.url)"
   ]
  },
  {
   "cell_type": "code",
   "execution_count": null,
   "metadata": {},
   "outputs": [],
   "source": [
    "# Client ID\n",
    "# b305f00a0f7218ec897f\n",
    "\n",
    "# Client Secret\n",
    "# b371dba7ff51858b1f8455e377b041d03de011ac\n",
    "\n",
    "\n",
    "# code=fbed36ac299400b3f60a"
   ]
  },
  {
   "cell_type": "code",
   "execution_count": null,
   "metadata": {},
   "outputs": [],
   "source": [
    "https://www.google.com/?code=ff57e3bdb7afddadb2f3&state=Random_sahil"
   ]
  },
  {
   "cell_type": "code",
   "execution_count": 23,
   "metadata": {},
   "outputs": [
    {
     "name": "stdout",
     "output_type": "stream",
     "text": [
      "200\n",
      "https://github.com/login/oauth/access_token?code=fbed36ac299400b3f60a&redirect_uri=http%3A%2F%2Fwww.google.com&state=Random_sahil&client_id=b305f00a0f7218ec897f&client_secret=b371dba7ff51858b1f8455e377b041d03de011ac\n"
     ]
    }
   ],
   "source": [
    "data1={'code': 'fbed36ac299400b3f60a','redirect_uri':'http://www.google.com','state':'Random_sahil','client_id':'b305f00a0f7218ec897f','client_secret':'b371dba7ff51858b1f8455e377b041d03de011ac'}\n",
    "\n",
    "res=requests.post(\"https://github.com/login/oauth/access_token\",params=data1)\n",
    "print(res.status_code)\n",
    "# print(response.text)\n",
    "print(res.url)"
   ]
  },
  {
   "cell_type": "code",
   "execution_count": 24,
   "metadata": {},
   "outputs": [
    {
     "name": "stdout",
     "output_type": "stream",
     "text": [
      "access_token=cdc563dfd79e036f3b9809f3824bdd24de0db095&scope=repo&token_type=bearer\n"
     ]
    }
   ],
   "source": [
    "print(res.text)"
   ]
  },
  {
   "cell_type": "code",
   "execution_count": null,
   "metadata": {},
   "outputs": [],
   "source": [
    "access_token=f0934e2532e71bf90772f9d2cc12fd999a11cfda&scope=user&token_type=bearer\n",
    "access_token=cdc563dfd79e036f3b9809f3824bdd24de0db095&scope=repo&token_type=bearer"
   ]
  }
 ],
 "metadata": {
  "kernelspec": {
   "display_name": "Python 3",
   "language": "python",
   "name": "python3"
  },
  "language_info": {
   "codemirror_mode": {
    "name": "ipython",
    "version": 3
   },
   "file_extension": ".py",
   "mimetype": "text/x-python",
   "name": "python",
   "nbconvert_exporter": "python",
   "pygments_lexer": "ipython3",
   "version": "3.6.4"
  }
 },
 "nbformat": 4,
 "nbformat_minor": 2
}
