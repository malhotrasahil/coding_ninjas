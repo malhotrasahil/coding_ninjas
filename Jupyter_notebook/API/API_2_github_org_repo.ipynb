{
 "cells": [
  {
   "cell_type": "code",
   "execution_count": 17,
   "metadata": {},
   "outputs": [],
   "source": [
    "import requests\n",
    "import json\n",
    "import pandas as pd\n",
    "from pandas.io.json import json_normalize"
   ]
  },
  {
   "cell_type": "code",
   "execution_count": 3,
   "metadata": {},
   "outputs": [
    {
     "name": "stdout",
     "output_type": "stream",
     "text": [
      "200\n",
      "https://api.github.com/orgs/CodingNinjasCodes/repos\n"
     ]
    }
   ],
   "source": [
    "# data={'client_id':'3fM62rSeWkgLgA','response_type':'code','state':'Random_sahil','redirect_uri':'https://www.google.com','duration':'permanent','scope':'read'}\n",
    "response=requests.get(\"https://api.github.com/orgs/CodingNinjasCodes/repos\")\n",
    "print(response.status_code)\n",
    "# print(response.text)\n",
    "print(response.url)"
   ]
  },
  {
   "cell_type": "code",
   "execution_count": null,
   "metadata": {},
   "outputs": [],
   "source": [
    "# Client ID\n",
    "# b305f00a0f7218ec897f\n",
    "\n",
    "# Client Secret\n",
    "# ca3621d24a27aea007518663ce32f2f587b378ca"
   ]
  },
  {
   "cell_type": "code",
   "execution_count": 11,
   "metadata": {},
   "outputs": [
    {
     "name": "stdout",
     "output_type": "stream",
     "text": [
      "<class 'list'>\n"
     ]
    }
   ],
   "source": [
    "l1=response.json()\n",
    "print(type(l1))"
   ]
  },
  {
   "cell_type": "code",
   "execution_count": null,
   "metadata": {},
   "outputs": [],
   "source": [
    " \"watchers_count\": 15,\n",
    "    \"language\": \"CSS\",\n",
    "    \"has_issues\": true,\n",
    "    \"has_projects\": true,\n",
    "    \"has_downloads\": true,\n",
    "    \"has_wiki\": true,\n",
    "    \"has_pages\": true,\n",
    "    \"forks_count\": 4,\n",
    "        name"
   ]
  },
  {
   "cell_type": "code",
   "execution_count": 16,
   "metadata": {},
   "outputs": [
    {
     "name": "stdout",
     "output_type": "stream",
     "text": [
      "SmoothScrollJs 15 4\n",
      "RubyTutorial 14 9\n",
      "Python3Tutorial 5 3\n",
      "HTMLandCssNotes 12 20\n",
      "Beacathon 2 8\n",
      "JSNotes 5 6\n",
      "learnml 1 0\n",
      "RubyNotebook 2 5\n"
     ]
    }
   ],
   "source": [
    "for i in l1:\n",
    "    if i['fork']== False:\n",
    "        print(i['name'],i['watchers_count'],i['forks_count'])"
   ]
  },
  {
   "cell_type": "code",
   "execution_count": null,
   "metadata": {},
   "outputs": [],
   "source": []
  },
  {
   "cell_type": "code",
   "execution_count": null,
   "metadata": {},
   "outputs": [],
   "source": []
  },
  {
   "cell_type": "code",
   "execution_count": null,
   "metadata": {},
   "outputs": [],
   "source": []
  },
  {
   "cell_type": "code",
   "execution_count": null,
   "metadata": {},
   "outputs": [],
   "source": []
  }
 ],
 "metadata": {
  "kernelspec": {
   "display_name": "Python 3",
   "language": "python",
   "name": "python3"
  },
  "language_info": {
   "codemirror_mode": {
    "name": "ipython",
    "version": 3
   },
   "file_extension": ".py",
   "mimetype": "text/x-python",
   "name": "python",
   "nbconvert_exporter": "python",
   "pygments_lexer": "ipython3",
   "version": "3.6.4"
  }
 },
 "nbformat": 4,
 "nbformat_minor": 2
}
