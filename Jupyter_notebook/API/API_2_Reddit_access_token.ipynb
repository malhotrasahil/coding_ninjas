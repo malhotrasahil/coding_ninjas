{
 "cells": [
  {
   "cell_type": "code",
   "execution_count": 1,
   "metadata": {},
   "outputs": [],
   "source": [
    "import requests\n",
    "import json\n"
   ]
  },
  {
   "cell_type": "code",
   "execution_count": null,
   "metadata": {},
   "outputs": [],
   "source": [
    "# secret:nGBdLkZUEWO4rOFmYUlwrPSCn3E\n",
    "# client:3fM62rSeWkgLgA\n",
    "\n",
    "#https://www.google.com/?state=Random_sahil&code=IQYX_iB9XCzdMSMP9pPIJjS0rkc"
   ]
  },
  {
   "cell_type": "code",
   "execution_count": 2,
   "metadata": {},
   "outputs": [
    {
     "name": "stdout",
     "output_type": "stream",
     "text": [
      "200\n",
      "https://www.reddit.com/login/?dest=https%3A%2F%2Fwww.reddit.com%2Fapi%2Fv1%2Fauthorize%3Fclient_id%3D3fM62rSeWkgLgA%26response_type%3Dcode%26state%3DRandom_sahil%26redirect_uri%3Dhttps%253A%252F%252Fwww.google.com%26duration%3Dpermanent%26scope%3Dread\n"
     ]
    }
   ],
   "source": [
    "data={'client_id':'3fM62rSeWkgLgA','response_type':'code','state':'Random_sahil','redirect_uri':'https://www.google.com','duration':'permanent','scope':'read'}\n",
    "response=requests.get(\"https://www.reddit.com/api/v1/authorize\", params=data)\n",
    "print(response.status_code)\n",
    "# print(response.text)\n",
    "print(response.url)"
   ]
  },
  {
   "cell_type": "code",
   "execution_count": null,
   "metadata": {},
   "outputs": [],
   "source": [
    "#code=IQYX_iB9XCzdMSMP9pPIJjS0rkc\n",
    "#code=FEDAvZOrQOZpdrX7mx0Frzy-Rtc\n",
    "#code=l213r8j-9IN0a8Am-93hZJDhNO8"
   ]
  },
  {
   "cell_type": "code",
   "execution_count": 8,
   "metadata": {},
   "outputs": [
    {
     "name": "stdout",
     "output_type": "stream",
     "text": [
      "{\"error\": \"invalid_grant\"}\n"
     ]
    }
   ],
   "source": [
    "data={'grant_type':'authorization_code','code': 'l213r8j-9IN0a8Am-93hZJDhNO8','redirect_uri':'https://www.google.com'}\n",
    "\n",
    "r=requests.post('https://www.reddit.com/api/v1/access_token',data=data,auth=('3fM62rSeWkgLgA','nGBdLkZUEWO4rOFmYUlwrPSCn3E'),headers={'User-Agent':'sahilmalhotra1'})\n",
    "print(r.text)"
   ]
  },
  {
   "cell_type": "code",
   "execution_count": null,
   "metadata": {},
   "outputs": [],
   "source": [
    "#\"access_token\": \"341152297895-ipc4RzdIZ0DHoAavodJ3j-X7B3s\", \n",
    "#\"access_token\": \"341152297895-BhlmND26Pt9tnB4IFvHR_BOBoOE\""
   ]
  },
  {
   "cell_type": "code",
   "execution_count": 7,
   "metadata": {},
   "outputs": [
    {
     "name": "stdout",
     "output_type": "stream",
     "text": [
      "{\"error\": \"invalid_grant\"}\n",
      "200\n",
      "https://www.reddit.com/api/v1/access_token\n"
     ]
    }
   ],
   "source": [
    "data={'grant_type':'authorization_code','code': 'l213r8j-9IN0a8Am-93hZJDhNO8','redirect_uri':'https://www.google.com'}\n",
    "r=requests.post('https://www.reddit.com/api/v1/access_token',data=data,auth=('3fM62rSeWkgLgA','nGBdLkZUEWO4rOFmYUlwrPSCn3E'),headers={'User-Agent':'sahilmalhotra'})\n",
    "print(r.text)\n",
    "print(r.status_code)\n",
    "      \n",
    "print(r.url)"
   ]
  },
  {
   "cell_type": "code",
   "execution_count": null,
   "metadata": {},
   "outputs": [],
   "source": []
  },
  {
   "cell_type": "code",
   "execution_count": null,
   "metadata": {},
   "outputs": [],
   "source": []
  }
 ],
 "metadata": {
  "kernelspec": {
   "display_name": "Python 3",
   "language": "python",
   "name": "python3"
  },
  "language_info": {
   "codemirror_mode": {
    "name": "ipython",
    "version": 3
   },
   "file_extension": ".py",
   "mimetype": "text/x-python",
   "name": "python",
   "nbconvert_exporter": "python",
   "pygments_lexer": "ipython3",
   "version": "3.6.4"
  }
 },
 "nbformat": 4,
 "nbformat_minor": 2
}
