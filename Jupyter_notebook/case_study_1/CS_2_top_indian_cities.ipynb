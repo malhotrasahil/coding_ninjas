{
 "cells": [
  {
   "cell_type": "code",
   "execution_count": 50,
   "metadata": {},
   "outputs": [],
   "source": [
    "import numpy as np\n",
    "import pandas as pd\n",
    "import matplotlib.pyplot as plt\n",
    "csv=pd.read_csv(\"C:\\\\Users\\\\Sahil\\\\Downloads\\\\startup_funding.csv\")\n",
    "df=csv.copy()"
   ]
  },
  {
   "cell_type": "code",
   "execution_count": 38,
   "metadata": {},
   "outputs": [],
   "source": [
    "city=csv['CityLocation'].str.strip()"
   ]
  },
  {
   "cell_type": "code",
   "execution_count": null,
   "metadata": {},
   "outputs": [],
   "source": []
  },
  {
   "cell_type": "code",
   "execution_count": 39,
   "metadata": {},
   "outputs": [],
   "source": [
    "def rep(a):\n",
    "#     print(type(a))\n",
    "    if a=='delhi':\n",
    "        a='new delhi'\n",
    "    if '/' in (a):\n",
    "        a=a.split('/')[0].strip()\n",
    "    return a"
   ]
  },
  {
   "cell_type": "code",
   "execution_count": 41,
   "metadata": {},
   "outputs": [],
   "source": [
    "city=city.str.lower()\n",
    "city.dropna(inplace=True)\n",
    "city=city.apply(rep)\n",
    "# city=city.str.replace('delhi','new delhi')\n",
    "city=city.str.title()\n",
    "freq=city.value_counts()"
   ]
  },
  {
   "cell_type": "code",
   "execution_count": null,
   "metadata": {},
   "outputs": [],
   "source": [
    "for i in range(len(freq.index):\n",
    "    df_index=df[df['CityLocation']==freq.index[i]]\n",
    "    df_index[]"
   ]
  },
  {
   "cell_type": "code",
   "execution_count": null,
   "metadata": {},
   "outputs": [],
   "source": []
  },
  {
   "cell_type": "code",
   "execution_count": null,
   "metadata": {},
   "outputs": [],
   "source": []
  },
  {
   "cell_type": "code",
   "execution_count": 43,
   "metadata": {},
   "outputs": [
    {
     "name": "stdout",
     "output_type": "stream",
     "text": [
      "Bangalore 635\n",
      "Mumbai 449\n",
      "New Delhi 389\n",
      "Gurgaon 241\n",
      "Pune 91\n",
      "Noida 79\n",
      "Hyderabad 77\n",
      "Chennai 67\n",
      "Ahmedabad 35\n",
      "Jaipur 25\n"
     ]
    }
   ],
   "source": [
    "x=freq.index\n",
    "y=freq.values\n",
    "for i in range(10):\n",
    "    print(x[i],y[i])"
   ]
  },
  {
   "cell_type": "code",
   "execution_count": 49,
   "metadata": {},
   "outputs": [
    {
     "data": {
      "text/plain": [
       "[]"
      ]
     },
     "execution_count": 49,
     "metadata": {},
     "output_type": "execute_result"
    },
    {
     "data": {
      "image/png": "[encoded data removed]",
      "text/plain": [
       "<matplotlib.figure.Figure at 0xacc42b0>"
      ]
     },
     "metadata": {},
     "output_type": "display_data"
    }
   ],
   "source": [
    "top_10_x=x[0:10]\n",
    "top_10_y=y[0:10]\n",
    "plt.pie(top_10_y, labels=top_10_x)\n",
    "plt.axis(\"equal\")\n",
    "plt.plot()"
   ]
  },
  {
   "cell_type": "code",
   "execution_count": null,
   "metadata": {},
   "outputs": [],
   "source": []
  },
  {
   "cell_type": "code",
   "execution_count": null,
   "metadata": {},
   "outputs": [],
   "source": []
  }
 ],
 "metadata": {
  "kernelspec": {
   "display_name": "Python 3",
   "language": "python",
   "name": "python3"
  },
  "language_info": {
   "codemirror_mode": {
    "name": "ipython",
    "version": 3
   },
   "file_extension": ".py",
   "mimetype": "text/x-python",
   "name": "python",
   "nbconvert_exporter": "python",
   "pygments_lexer": "ipython3",
   "version": "3.6.4"
  }
 },
 "nbformat": 4,
 "nbformat_minor": 2
}
