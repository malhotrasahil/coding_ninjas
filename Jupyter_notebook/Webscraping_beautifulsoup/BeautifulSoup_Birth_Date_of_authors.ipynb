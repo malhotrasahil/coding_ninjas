{
 "cells": [
  {
   "cell_type": "code",
   "execution_count": 18,
   "metadata": {},
   "outputs": [],
   "source": [
    "import requests\n",
    "from bs4 import BeautifulSoup\n",
    "import re\n",
    "\n",
    "res=requests.get('http://quotes.toscrape.com/')\n",
    "html_data=res.text\n",
    "data=BeautifulSoup(html_data,'html.parser')\n",
    "data\n",
    "names=dict()"
   ]
  },
  {
   "cell_type": "code",
   "execution_count": 19,
   "metadata": {},
   "outputs": [],
   "source": [
    "while True:\n",
    "    all_authors=data.find_all('small',class_='author')\n",
    "    for author in all_authors:\n",
    "        if author.string[0]=='J':\n",
    "            link=\"http://quotes.toscrape.com/\"+author.next.next.next['href']\n",
    "            res=requests.get(link)\n",
    "            html_data1=res.text\n",
    "            data1=BeautifulSoup(html_data1,'html.parser')\n",
    "            dob=data1.find(class_='author-born-date').string\n",
    "            names[author.string]=dob\n",
    "    temp=data.find('li',class_=\"next\")\n",
    "    if temp==None:\n",
    "        break\n",
    "    tag=temp.find('a')['href']\n",
    "#     if tag==None:\n",
    "#         break\n",
    "    tag=\"http://quotes.toscrape.com\"+tag\n",
    "    res=requests.get(tag)\n",
    "    html_data=res.text\n",
    "    data=BeautifulSoup(html_data,'html.parser')"
   ]
  },
  {
   "cell_type": "code",
   "execution_count": 31,
   "metadata": {},
   "outputs": [
    {
     "name": "stdout",
     "output_type": "stream",
     "text": [
      "{'J.D. Salinger': 'January 01, 1919', 'J.K. Rowling': 'July 31, 1965', 'J.M. Barrie': 'May 09, 1860', 'J.R.R. Tolkien': 'January 03, 1892', 'James Baldwin': 'August 02, 1924', 'Jane Austen': 'December 16, 1775', 'Jim Henson': 'September 24, 1936', 'Jimi Hendrix': 'November 27, 1942', 'John Lennon': 'October 09, 1940', 'Jorge Luis Borges': 'August 24, 1899'}\n"
     ]
    }
   ],
   "source": [
    "# for key in sorted(names.keys()):\n",
    "#     print(key,\":\",names[key], end=' ')\n",
    "\n",
    "# print (sorted(names.iteritems()))\n",
    "dict2=dict()\n",
    "for key in sorted(names.keys()):\n",
    "    dict2[key]=names[key]\n",
    "print(dict2)"
   ]
  },
  {
   "cell_type": "code",
   "execution_count": 13,
   "metadata": {},
   "outputs": [
    {
     "name": "stdout",
     "output_type": "stream",
     "text": [
      "<a href=\"/author/J-K-Rowling\">(about)</a>\n"
     ]
    }
   ],
   "source": [
    "print(author.next.next.next)"
   ]
  },
  {
   "cell_type": "code",
   "execution_count": null,
   "metadata": {},
   "outputs": [],
   "source": []
  },
  {
   "cell_type": "code",
   "execution_count": null,
   "metadata": {},
   "outputs": [],
   "source": []
  },
  {
   "cell_type": "code",
   "execution_count": null,
   "metadata": {},
   "outputs": [],
   "source": []
  },
  {
   "cell_type": "code",
   "execution_count": null,
   "metadata": {},
   "outputs": [],
   "source": []
  }
 ],
 "metadata": {
  "kernelspec": {
   "display_name": "Python 3",
   "language": "python",
   "name": "python3"
  },
  "language_info": {
   "codemirror_mode": {
    "name": "ipython",
    "version": 3
   },
   "file_extension": ".py",
   "mimetype": "text/x-python",
   "name": "python",
   "nbconvert_exporter": "python",
   "pygments_lexer": "ipython3",
   "version": "3.6.4"
  }
 },
 "nbformat": 4,
 "nbformat_minor": 2
}
