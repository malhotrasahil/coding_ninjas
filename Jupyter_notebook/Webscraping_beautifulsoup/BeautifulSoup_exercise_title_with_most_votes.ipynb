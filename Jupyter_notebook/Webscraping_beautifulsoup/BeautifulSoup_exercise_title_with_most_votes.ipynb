{
 "cells": [
  {
   "cell_type": "code",
   "execution_count": 1,
   "metadata": {},
   "outputs": [],
   "source": [
    "import requests\n",
    "from bs4 import BeautifulSoup\n",
    "import re"
   ]
  },
  {
   "cell_type": "code",
   "execution_count": null,
   "metadata": {},
   "outputs": [],
   "source": [
    "https://www.imdb.com/search/title/?release_date=2010-01-01,2010-12-31&sort=num_votes,desc"
   ]
  },
  {
   "cell_type": "code",
   "execution_count": 8,
   "metadata": {},
   "outputs": [
    {
     "name": "stdout",
     "output_type": "stream",
     "text": [
      "Inception\n",
      "Game of Thrones\n",
      "The Dark Knight Rises\n",
      "Interstellar\n",
      "Django Unchained\n",
      "The Avengers\n",
      "The Wolf of Wall Street\n",
      "Shutter Island\n",
      "Guardians of the Galaxy\n",
      "The Hunger Games\n",
      "The Walking Dead\n",
      "Gone Girl\n",
      "The Hobbit: An Unexpected Journey\n",
      "Sherlock\n",
      "Gravity\n",
      "Iron Man Three\n",
      "Harry Potter and the Deathly Hallows: Part 2\n",
      "Toy Story 3\n",
      "Thor\n",
      "The Intouchables\n",
      "Captain America: The First Avenger\n",
      "Captain America: The Winter Soldier\n",
      "Iron Man 2\n",
      "Black Swan\n",
      "Man of Steel\n",
      "The Grand Budapest Hotel\n",
      "Whiplash\n",
      "The Imitation Game\n",
      "X-Men: Days of Future Past\n",
      "Silver Linings Playbook\n",
      "How to Train Your Dragon\n",
      "X: First Class\n",
      "The King's Speech\n",
      "Skyfall\n",
      "12 Years a Slave\n",
      "The Hunger Games: Catching Fire\n",
      "The Social Network\n",
      "The Hobbit: The Desolation of Smaug\n",
      "World War Z\n",
      "Now You See Me\n",
      "Edge of Tomorrow\n",
      "Kingsman: The Secret Service\n",
      "Thor: The Dark World\n",
      "Ted\n",
      "Prometheus\n",
      "Life of Pi\n",
      "Argo\n",
      "Prisoners\n",
      "The Amazing Spider-Man\n",
      "Drive\n"
     ]
    }
   ],
   "source": [
    "response=requests.get('https://www.imdb.com/search/title/?release_date=2010-01-01,2014-12-31&sort=num_votes,desc')\n",
    "html_data=response.text\n",
    "data=BeautifulSoup(html_data , 'html.parser')\n",
    "# print(data.prettify())\n",
    "ll=data.find_all(class_='lister-item mode-advanced')\n",
    "for i in ll:\n",
    "    print(i.h3.a.string)"
   ]
  },
  {
   "cell_type": "code",
   "execution_count": 6,
   "metadata": {},
   "outputs": [
    {
     "name": "stdout",
     "output_type": "stream",
     "text": [
      "Inception\n",
      "Game of Thrones\n",
      "The Dark Knight Rises\n",
      "Interstellar\n",
      "Interstellar\n"
     ]
    }
   ],
   "source": [
    "for i in [2010,2011,2012,2013,2014]:\n",
    "    response=requests.get('https://www.imdb.com/search/title/?release_date='+str(i)+'-01-01,+'+str(i)+'-12-31&sort=num_votes,desc')\n",
    "    html_data=response.text\n",
    "    data=BeautifulSoup(html_data , 'html.parser')\n",
    "# print(data.prettify())\n",
    "# ll=data.find_all(class_='lister-item mode-advanced')\n",
    "\n",
    "    print(data.h3.a.string)"
   ]
  },
  {
   "cell_type": "code",
   "execution_count": null,
   "metadata": {},
   "outputs": [],
   "source": [
    "import requests\n",
    "from bs4 import BeautifulSoup\n",
    "import re\n",
    "\n",
    "for i in range(2010,2015):\n",
    "    response=requests.get('https://www.imdb.com/search/title/?release_date='+str(i)+'&sort=num_votes,desc&page=1&ref_=adv_nxt')\n",
    "    html_data=response.text\n",
    "    data=BeautifulSoup(html_data , 'html.parser')\n",
    "    # print(data.prettify())\n",
    "    ll=data.find('h3', class_='lister-item-header')\n",
    "    print(ll.a.string)"
   ]
  },
  {
   "cell_type": "code",
   "execution_count": null,
   "metadata": {},
   "outputs": [],
   "source": []
  },
  {
   "cell_type": "code",
   "execution_count": null,
   "metadata": {},
   "outputs": [],
   "source": []
  },
  {
   "cell_type": "code",
   "execution_count": null,
   "metadata": {},
   "outputs": [],
   "source": []
  },
  {
   "cell_type": "code",
   "execution_count": null,
   "metadata": {},
   "outputs": [],
   "source": []
  }
 ],
 "metadata": {
  "kernelspec": {
   "display_name": "Python 3",
   "language": "python",
   "name": "python3"
  },
  "language_info": {
   "codemirror_mode": {
    "name": "ipython",
    "version": 3
   },
   "file_extension": ".py",
   "mimetype": "text/x-python",
   "name": "python",
   "nbconvert_exporter": "python",
   "pygments_lexer": "ipython3",
   "version": "3.6.4"
  }
 },
 "nbformat": 4,
 "nbformat_minor": 2
}
