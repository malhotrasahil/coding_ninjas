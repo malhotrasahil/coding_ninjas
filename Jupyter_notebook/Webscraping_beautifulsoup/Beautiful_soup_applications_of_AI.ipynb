{
 "cells": [
  {
   "cell_type": "code",
   "execution_count": 1,
   "metadata": {},
   "outputs": [],
   "source": [
    "import requests\n",
    "from bs4 import BeautifulSoup\n",
    "import re"
   ]
  },
  {
   "cell_type": "code",
   "execution_count": 3,
   "metadata": {},
   "outputs": [],
   "source": [
    "res=requests.get('https://en.wikipedia.org/wiki/Artificial_intelligence')\n",
    "html_data=res.text\n",
    "data=BeautifulSoup(html_data,'html.parser')"
   ]
  },
  {
   "cell_type": "code",
   "execution_count": 5,
   "metadata": {},
   "outputs": [],
   "source": [
    "# data"
   ]
  },
  {
   "cell_type": "code",
   "execution_count": 15,
   "metadata": {},
   "outputs": [
    {
     "name": "stdout",
     "output_type": "stream",
     "text": [
      "Healthcare\n",
      "Automotive\n",
      "Finance and economics\n",
      "Government\n",
      "Video games\n",
      "Military\n",
      "Audit\n",
      "Advertising\n",
      "Art\n"
     ]
    }
   ],
   "source": [
    "print(data.find(\"li\",class_='tocsection-36').find(\"span\",class_='toctext').string)\n",
    "print(data.find(\"li\",class_='tocsection-37').find(\"span\",class_='toctext').string)\n",
    "print(data.find(\"li\",class_='tocsection-38').find(\"span\",class_='toctext').string)\n",
    "print(data.find(\"li\",class_='tocsection-39').find(\"span\",class_='toctext').string)\n",
    "print(data.find(\"li\",class_='tocsection-40').find(\"span\",class_='toctext').string)\n",
    "print(data.find(\"li\",class_='tocsection-41').find(\"span\",class_='toctext').string)\n",
    "print(data.find(\"li\",class_='tocsection-42').find(\"span\",class_='toctext').string)\n",
    "print(data.find(\"li\",class_='tocsection-43').find(\"span\",class_='toctext').string)\n",
    "print(data.find(\"li\",class_='tocsection-44').find(\"span\",class_='toctext').string)\n",
    "\n",
    "\n"
   ]
  },
  {
   "cell_type": "code",
   "execution_count": null,
   "metadata": {},
   "outputs": [],
   "source": []
  },
  {
   "cell_type": "code",
   "execution_count": null,
   "metadata": {},
   "outputs": [],
   "source": []
  },
  {
   "cell_type": "code",
   "execution_count": null,
   "metadata": {},
   "outputs": [],
   "source": []
  },
  {
   "cell_type": "code",
   "execution_count": null,
   "metadata": {},
   "outputs": [],
   "source": []
  },
  {
   "cell_type": "code",
   "execution_count": null,
   "metadata": {},
   "outputs": [],
   "source": []
  },
  {
   "cell_type": "code",
   "execution_count": null,
   "metadata": {},
   "outputs": [],
   "source": []
  },
  {
   "cell_type": "code",
   "execution_count": null,
   "metadata": {},
   "outputs": [],
   "source": []
  },
  {
   "cell_type": "code",
   "execution_count": null,
   "metadata": {},
   "outputs": [],
   "source": []
  }
 ],
 "metadata": {
  "kernelspec": {
   "display_name": "Python 3",
   "language": "python",
   "name": "python3"
  },
  "language_info": {
   "codemirror_mode": {
    "name": "ipython",
    "version": 3
   },
   "file_extension": ".py",
   "mimetype": "text/x-python",
   "name": "python",
   "nbconvert_exporter": "python",
   "pygments_lexer": "ipython3",
   "version": "3.6.4"
  }
 },
 "nbformat": 4,
 "nbformat_minor": 2
}
