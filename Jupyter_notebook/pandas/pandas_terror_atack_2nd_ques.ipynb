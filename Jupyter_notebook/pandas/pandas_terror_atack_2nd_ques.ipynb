{
 "cells": [
  {
   "cell_type": "code",
   "execution_count": 1,
   "metadata": {},
   "outputs": [],
   "source": [
    "import numpy as np\n",
    "import pandas as pd\n",
    "\n",
    "terror=pd.read_csv(\"C:\\\\Users\\\\Sahil\\\\Downloads\\\\terrorismData.csv\")\n",
    "\n",
    "\n",
    "df=terror.copy()"
   ]
  },
  {
   "cell_type": "code",
   "execution_count": 6,
   "metadata": {},
   "outputs": [
    {
     "data": {
      "text/plain": [
       "24636"
      ]
     },
     "execution_count": 6,
     "metadata": {},
     "output_type": "execute_result"
    }
   ],
   "source": [
    "country=df.describe(include='all')['Country'].loc['top']\n",
    "count=df.describe(include='all')['Country'].loc['freq']\n",
    "count"
   ]
  },
  {
   "cell_type": "code",
   "execution_count": 16,
   "metadata": {},
   "outputs": [
    {
     "name": "stdout",
     "output_type": "stream",
     "text": [
      "2014\n",
      "Iraq 24636 2014\n"
     ]
    }
   ],
   "source": [
    "df_country=df[df['Country']==country]\n",
    "year=df_country['Year'].mode().iloc[0]\n",
    "# print(year)\n",
    "print(country +' '+ str(count)+ ' ' +str(year))"
   ]
  },
  {
   "cell_type": "code",
   "execution_count": 20,
   "metadata": {},
   "outputs": [
    {
     "name": "stdout",
     "output_type": "stream",
     "text": [
      "Iraq                              24636\n",
      "Pakistan                          14368\n",
      "Afghanistan                       12731\n",
      "India                             11960\n",
      "Colombia                           8306\n",
      "Philippines                        6908\n",
      "Peru                               6096\n",
      "El Salvador                        5320\n",
      "United Kingdom                     5235\n",
      "Turkey                             4292\n",
      "Somalia                            4142\n",
      "Nigeria                            3907\n",
      "Thailand                           3849\n",
      "Yemen                              3347\n",
      "Spain                              3249\n",
      "Sri Lanka                          3022\n",
      "United States                      2836\n",
      "Algeria                            2743\n",
      "France                             2693\n",
      "Egypt                              2479\n",
      "Lebanon                            2478\n",
      "Chile                              2365\n",
      "Libya                              2249\n",
      "West Bank and Gaza Strip           2227\n",
      "Syria                              2201\n",
      "Russia                             2194\n",
      "Israel                             2183\n",
      "Guatemala                          2050\n",
      "South Africa                       2016\n",
      "Nicaragua                          1970\n",
      "                                  ...  \n",
      "Comoros                               5\n",
      "Malawi                                5\n",
      "Bahamas                               5\n",
      "Grenada                               5\n",
      "Western Sahara                        5\n",
      "Montenegro                            5\n",
      "People's Republic of the Congo        4\n",
      "Solomon Islands                       4\n",
      "Iceland                               4\n",
      "Gambia                                3\n",
      "French Polynesia                      3\n",
      "Dominica                              3\n",
      "Barbados                              3\n",
      "Equatorial Guinea                     2\n",
      "Seychelles                            2\n",
      "Mauritius                             2\n",
      "Turkmenistan                          2\n",
      "South Yemen                           2\n",
      "St. Kitts and Nevis                   2\n",
      "Vanuatu                               2\n",
      "Antigua and Barbuda                   1\n",
      "Falkland Islands                      1\n",
      "Wallis and Futuna                     1\n",
      "International                         1\n",
      "Vatican City                          1\n",
      "North Korea                           1\n",
      "Andorra                               1\n",
      "St. Lucia                             1\n",
      "South Vietnam                         1\n",
      "New Hebrides                          1\n",
      "Name: Country, Length: 205, dtype: int64\n"
     ]
    }
   ],
   "source": [
    "a=df['Country'].value_counts()\n",
    "print(a)\n",
    "\n",
    "# for i in a :\n",
    "#     print (i)"
   ]
  }
 ],
 "metadata": {
  "kernelspec": {
   "display_name": "Python 3",
   "language": "python",
   "name": "python3"
  },
  "language_info": {
   "codemirror_mode": {
    "name": "ipython",
    "version": 3
   },
   "file_extension": ".py",
   "mimetype": "text/x-python",
   "name": "python",
   "nbconvert_exporter": "python",
   "pygments_lexer": "ipython3",
   "version": "3.6.4"
  }
 },
 "nbformat": 4,
 "nbformat_minor": 2
}
