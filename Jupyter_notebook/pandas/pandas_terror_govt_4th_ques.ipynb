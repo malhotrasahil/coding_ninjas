{
 "cells": [
  {
   "cell_type": "code",
   "execution_count": 1,
   "metadata": {},
   "outputs": [],
   "source": [
    "import numpy as np\n",
    "import pandas as pd\n",
    "\n",
    "terror=pd.read_csv(\"C:\\\\Users\\\\Sahil\\\\Downloads\\\\terrorismData.csv\")\n",
    "\n",
    "\n",
    "df=terror.copy()"
   ]
  },
  {
   "cell_type": "code",
   "execution_count": 26,
   "metadata": {},
   "outputs": [],
   "source": [
    "df=df[df['Country']=='India']"
   ]
  },
  {
   "cell_type": "code",
   "execution_count": 27,
   "metadata": {},
   "outputs": [],
   "source": [
    "df_3=df[df['Year']>2014]"
   ]
  },
  {
   "cell_type": "code",
   "execution_count": 28,
   "metadata": {},
   "outputs": [
    {
     "data": {
      "text/plain": [
       "(297, 17)"
      ]
     },
     "execution_count": 28,
     "metadata": {},
     "output_type": "execute_result"
    }
   ],
   "source": [
    "df_2.shape"
   ]
  },
  {
   "cell_type": "code",
   "execution_count": 51,
   "metadata": {},
   "outputs": [],
   "source": [
    "# df_1=df[np.logical_and((df['Month']>5) , (df['Year']==2014))]\n",
    "df_1=df[(df['Month']>5) & (df['Year']==2014)]"
   ]
  },
  {
   "cell_type": "code",
   "execution_count": 52,
   "metadata": {},
   "outputs": [
    {
     "data": {
      "text/plain": [
       "(446, 17)"
      ]
     },
     "execution_count": 52,
     "metadata": {},
     "output_type": "execute_result"
    }
   ],
   "source": [
    " df_1.shape"
   ]
  },
  {
   "cell_type": "code",
   "execution_count": 31,
   "metadata": {},
   "outputs": [],
   "source": [
    "df_2=df[np.logical_and(np.logical_and((df['Month']==5),(df['Year']==2014)),df['Day']>25)]"
   ]
  },
  {
   "cell_type": "code",
   "execution_count": 32,
   "metadata": {},
   "outputs": [],
   "source": [
    "df_bjp=pd.concat([df_1,df_2,df_3] , ignore_index=True)"
   ]
  },
  {
   "cell_type": "code",
   "execution_count": 33,
   "metadata": {},
   "outputs": [
    {
     "data": {
      "text/plain": [
       "(3336, 17)"
      ]
     },
     "execution_count": 33,
     "metadata": {},
     "output_type": "execute_result"
    }
   ],
   "source": [
    "df_bjp.shape"
   ]
  },
  {
   "cell_type": "code",
   "execution_count": 50,
   "metadata": {},
   "outputs": [],
   "source": [
    "df_bjp = df[(((df['Year'] >= 2014) & (df.Month >= 5) & (df.Day >= 26)) | \n",
    "                    ((df.Year >= 2014) & (df.Month >= 6)) | \n",
    "                    (df.Year > 2014))   \n",
    "                   & (df.Country == 'India')]"
   ]
  },
  {
   "cell_type": "code",
   "execution_count": null,
   "metadata": {},
   "outputs": [],
   "source": []
  },
  {
   "cell_type": "code",
   "execution_count": 49,
   "metadata": {},
   "outputs": [
    {
     "data": {
      "text/html": [
       "<div>\n",
       "<style scoped>\n",
       "    .dataframe tbody tr th:only-of-type {\n",
       "        vertical-align: middle;\n",
       "    }\n",
       "\n",
       "    .dataframe tbody tr th {\n",
       "        vertical-align: top;\n",
       "    }\n",
       "\n",
       "    .dataframe thead th {\n",
       "        text-align: right;\n",
       "    }\n",
       "</style>\n",
       "<table border=\"1\" class=\"dataframe\">\n",
       "  <thead>\n",
       "    <tr style=\"text-align: right;\">\n",
       "      <th></th>\n",
       "      <th>Year</th>\n",
       "      <th>Month</th>\n",
       "      <th>Day</th>\n",
       "      <th>Latitude</th>\n",
       "      <th>Longitude</th>\n",
       "      <th>Killed</th>\n",
       "      <th>Wounded</th>\n",
       "    </tr>\n",
       "  </thead>\n",
       "  <tbody>\n",
       "    <tr>\n",
       "      <th>count</th>\n",
       "      <td>3336.000000</td>\n",
       "      <td>3336.000000</td>\n",
       "      <td>3336.000000</td>\n",
       "      <td>3332.000000</td>\n",
       "      <td>3332.000000</td>\n",
       "      <td>3230.000000</td>\n",
       "      <td>3157.000000</td>\n",
       "    </tr>\n",
       "    <tr>\n",
       "      <th>mean</th>\n",
       "      <td>2015.748201</td>\n",
       "      <td>6.784472</td>\n",
       "      <td>16.030576</td>\n",
       "      <td>24.652179</td>\n",
       "      <td>83.671530</td>\n",
       "      <td>0.499071</td>\n",
       "      <td>0.814697</td>\n",
       "    </tr>\n",
       "    <tr>\n",
       "      <th>std</th>\n",
       "      <td>1.021873</td>\n",
       "      <td>3.362195</td>\n",
       "      <td>8.877897</td>\n",
       "      <td>5.838827</td>\n",
       "      <td>6.753417</td>\n",
       "      <td>1.772043</td>\n",
       "      <td>2.482933</td>\n",
       "    </tr>\n",
       "    <tr>\n",
       "      <th>min</th>\n",
       "      <td>2014.000000</td>\n",
       "      <td>1.000000</td>\n",
       "      <td>1.000000</td>\n",
       "      <td>8.169375</td>\n",
       "      <td>68.968308</td>\n",
       "      <td>0.000000</td>\n",
       "      <td>0.000000</td>\n",
       "    </tr>\n",
       "    <tr>\n",
       "      <th>25%</th>\n",
       "      <td>2015.000000</td>\n",
       "      <td>4.000000</td>\n",
       "      <td>8.000000</td>\n",
       "      <td>19.723535</td>\n",
       "      <td>77.931272</td>\n",
       "      <td>0.000000</td>\n",
       "      <td>0.000000</td>\n",
       "    </tr>\n",
       "    <tr>\n",
       "      <th>50%</th>\n",
       "      <td>2016.000000</td>\n",
       "      <td>7.000000</td>\n",
       "      <td>16.000000</td>\n",
       "      <td>24.779988</td>\n",
       "      <td>82.482224</td>\n",
       "      <td>0.000000</td>\n",
       "      <td>0.000000</td>\n",
       "    </tr>\n",
       "    <tr>\n",
       "      <th>75%</th>\n",
       "      <td>2017.000000</td>\n",
       "      <td>10.000000</td>\n",
       "      <td>24.000000</td>\n",
       "      <td>27.024762</td>\n",
       "      <td>89.849400</td>\n",
       "      <td>1.000000</td>\n",
       "      <td>1.000000</td>\n",
       "    </tr>\n",
       "    <tr>\n",
       "      <th>max</th>\n",
       "      <td>2017.000000</td>\n",
       "      <td>12.000000</td>\n",
       "      <td>31.000000</td>\n",
       "      <td>34.655639</td>\n",
       "      <td>96.644737</td>\n",
       "      <td>42.000000</td>\n",
       "      <td>61.000000</td>\n",
       "    </tr>\n",
       "  </tbody>\n",
       "</table>\n",
       "</div>"
      ],
      "text/plain": [
       "              Year        Month          Day     Latitude    Longitude  \\\n",
       "count  3336.000000  3336.000000  3336.000000  3332.000000  3332.000000   \n",
       "mean   2015.748201     6.784472    16.030576    24.652179    83.671530   \n",
       "std       1.021873     3.362195     8.877897     5.838827     6.753417   \n",
       "min    2014.000000     1.000000     1.000000     8.169375    68.968308   \n",
       "25%    2015.000000     4.000000     8.000000    19.723535    77.931272   \n",
       "50%    2016.000000     7.000000    16.000000    24.779988    82.482224   \n",
       "75%    2017.000000    10.000000    24.000000    27.024762    89.849400   \n",
       "max    2017.000000    12.000000    31.000000    34.655639    96.644737   \n",
       "\n",
       "            Killed      Wounded  \n",
       "count  3230.000000  3157.000000  \n",
       "mean      0.499071     0.814697  \n",
       "std       1.772043     2.482933  \n",
       "min       0.000000     0.000000  \n",
       "25%       0.000000     0.000000  \n",
       "50%       0.000000     0.000000  \n",
       "75%       1.000000     1.000000  \n",
       "max      42.000000    61.000000  "
      ]
     },
     "execution_count": 49,
     "metadata": {},
     "output_type": "execute_result"
    }
   ],
   "source": [
    "df_bjp.describe()"
   ]
  },
  {
   "cell_type": "code",
   "execution_count": 43,
   "metadata": {},
   "outputs": [],
   "source": [
    "count=len(df_bjp.index)"
   ]
  },
  {
   "cell_type": "code",
   "execution_count": 44,
   "metadata": {},
   "outputs": [
    {
     "data": {
      "text/plain": [
       "3336"
      ]
     },
     "execution_count": 44,
     "metadata": {},
     "output_type": "execute_result"
    }
   ],
   "source": [
    "count"
   ]
  },
  {
   "cell_type": "code",
   "execution_count": 35,
   "metadata": {},
   "outputs": [
    {
     "data": {
      "text/plain": [
       "Unknown                                                         1279\n",
       "Maoists                                                          854\n",
       "Communist Party of India - Maoist (CPI-Maoist)                   327\n",
       "Hizbul Mujahideen (HM)                                            78\n",
       "Lashkar-e-Taiba (LeT)                                             69\n",
       "Gorkha Janmukti Morcha (GJM)                                      67\n",
       "United Liberation Front of Assam (ULFA)                           66\n",
       "Garo National Liberation Army                                     61\n",
       "National Democratic Front of Bodoland (NDFB)                      45\n",
       "National Socialist Council of Nagaland-Isak-Muivah (NSCN-IM)      43\n",
       "National Socialist Council of Nagaland-Khaplang (NSCN-K)          40\n",
       "People's Liberation Front of India                                35\n",
       "People's Liberation Army (India)                                  33\n",
       "Separatists                                                       21\n",
       "Achik Songna An'pachakgipa Kotok (ASAK)                           17\n",
       "United National Liberation Front (UNLF)                           14\n",
       "Lashkar-e-Islam (India)                                           13\n",
       "Jaish-e-Mohammad (JeM)                                            13\n",
       "Zeliangrong United Front                                          11\n",
       "Tehrik al-Mojahedin                                               11\n",
       "Gorkha Liberation Army (GLA)                                       9\n",
       "People's Revolutionary Party of Kangleipak (PREPAK)                9\n",
       "National Liberation Front of Tripura (NLFT)                        9\n",
       "Khasi Students Union                                               8\n",
       "Tritiya Prastuti Committee (TPC)                                   8\n",
       "Manipur Naga People's Army (MNPA)                                  7\n",
       "Hindu extremists                                                   7\n",
       "Khalistan Liberation Force                                         7\n",
       "Students Islamic Movement of India (SIMI)                          6\n",
       "A'chik Matgrik Elite Force (AMEF)                                  6\n",
       "                                                                ... \n",
       "United Karbi Liberation Army (UKLA)                                1\n",
       "United Gorkha People's Organization (UGPO)                         1\n",
       "Al-Umar Mujahideen                                                 1\n",
       "Kuki Independent Organization (KIO/KIA)                            1\n",
       "United Reformation Protest of India                                1\n",
       "Liberal Democratic Council for Missing Land                        1\n",
       "Kamtapur Liberation Organization (KLO)                             1\n",
       "National Revolutionary Front of Manipur (NRFM)                     1\n",
       "Thadou People's Liberation Army (TPLA)                             1\n",
       "Lama Group                                                         1\n",
       "Liberation of Achik Elite Force (LAEF)                             1\n",
       "Bru National Liberation Front (BNLF)                               1\n",
       "United Achik National Front (UANF)                                 1\n",
       "Sanatan Sanstha                                                    1\n",
       "Dima Hasao National Army                                           1\n",
       "Jharkhand Kranti Raksha Dal (Utari Chotanagpur)                    1\n",
       "Dashmesh Regiment                                                  1\n",
       "Adivasi National Liberation Army (ANLA)                            1\n",
       "National Socialist Council of Nagaland-Unification (NSCN-U)        1\n",
       "Bangladesh Tiger Force                                             1\n",
       "Right-wing extremists                                              1\n",
       "Rabha National Security Force                                      1\n",
       "Thanthai Periyar Dravidar Kazhagam (TPDK)                          1\n",
       "Tribal Revolutionary Army (TRA)                                    1\n",
       "Manipur Nationalist Revolutionary Party (MNRP)                     1\n",
       "Jammu and Kashmir Islamic Front                                    1\n",
       "Communist Party of India- Marxist                                  1\n",
       "United Garo Security Force (UGSF)                                  1\n",
       "Birsa Commando Force (BCF)                                         1\n",
       "Tehrik-e-Hurriyat (TeH)                                            1\n",
       "Name: Group, Length: 117, dtype: int64"
      ]
     },
     "execution_count": 35,
     "metadata": {},
     "output_type": "execute_result"
    }
   ],
   "source": [
    "df_bjp['Group'].value_counts()"
   ]
  },
  {
   "cell_type": "code",
   "execution_count": 36,
   "metadata": {},
   "outputs": [],
   "source": [
    "df_bjp_group_known=df_bjp[df_bjp['Group']!='Unknown']"
   ]
  },
  {
   "cell_type": "code",
   "execution_count": 40,
   "metadata": {},
   "outputs": [],
   "source": [
    "group_name=df_bjp_group_known['Group'].value_counts().index[0]"
   ]
  },
  {
   "cell_type": "code",
   "execution_count": 46,
   "metadata": {},
   "outputs": [
    {
     "data": {
      "text/plain": [
       "'Maoists'"
      ]
     },
     "execution_count": 46,
     "metadata": {},
     "output_type": "execute_result"
    }
   ],
   "source": [
    "group_name"
   ]
  }
 ],
 "metadata": {
  "kernelspec": {
   "display_name": "Python 3",
   "language": "python",
   "name": "python3"
  },
  "language_info": {
   "codemirror_mode": {
    "name": "ipython",
    "version": 3
   },
   "file_extension": ".py",
   "mimetype": "text/x-python",
   "name": "python",
   "nbconvert_exporter": "python",
   "pygments_lexer": "ipython3",
   "version": "3.6.4"
  }
 },
 "nbformat": 4,
 "nbformat_minor": 2
}
