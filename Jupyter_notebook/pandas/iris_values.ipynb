{
 "cells": [
  {
   "cell_type": "code",
   "execution_count": 42,
   "metadata": {},
   "outputs": [
    {
     "name": "stdout",
     "output_type": "stream",
     "text": [
      "       SepalLength  SepalWidth  PetalLength  PetalWidth\n",
      "count     50.00000   50.000000    50.000000    50.00000\n",
      "mean       6.58800    2.974000     5.552000     2.02600\n",
      "std        0.63588    0.322497     0.551895     0.27465\n",
      "min        4.90000    2.200000     4.500000     1.40000\n",
      "25%        6.22500    2.800000     5.100000     1.80000\n",
      "50%        6.50000    3.000000     5.550000     2.00000\n",
      "75%        6.90000    3.175000     5.875000     2.30000\n",
      "max        7.90000    3.800000     6.900000     2.50000\n",
      "     SepalLength  SepalWidth  PetalLength  PetalWidth         Species\n",
      "145          6.7         3.0          5.2         2.3  Iris-virginica\n",
      "146          6.3         2.5          5.0         1.9  Iris-virginica\n",
      "147          6.5         3.0          5.2         2.0  Iris-virginica\n",
      "148          6.2         3.4          5.4         2.3  Iris-virginica\n",
      "149          5.9         3.0          5.1         1.8  Iris-virginica\n"
     ]
    }
   ],
   "source": [
    "import pandas as pd\n",
    "columns=['SepalLength','SepalWidth', 'PetalLength', 'PetalWidth' , 'Species']\n",
    "iris=pd.read_csv(\"https://archive.ics.uci.edu/ml/machine-learning-databases/iris/iris.data\", names=columns)\n",
    "\n",
    "df=iris.copy()\n",
    "# df=df[df['Species']==]\n",
    "\n",
    "versicolor=df[df['Species']=='Iris-versicolor']\n",
    "virginica=df[df['Species']=='Iris-virginica']\n",
    "setosa=df[df['Species']=='Iris-setosa']\n",
    "\n",
    "# setosa.describe()\n",
    "print(virginica.describe())\n",
    "print(virginica.tail())"
   ]
  },
  {
   "cell_type": "code",
   "execution_count": 55,
   "metadata": {},
   "outputs": [
    {
     "name": "stdout",
     "output_type": "stream",
     "text": [
      "4.30 2.30 1.00 0.10 Iris-setosa\n",
      "5.80 4.40 1.90 0.60 Iris-setosa\n",
      "5.01 3.42 1.46 0.24 Iris-setosa\n",
      "4.90 2.00 3.00 1.00 Iris-versicolor\n",
      "7.00 3.40 5.10 1.80 Iris-versicolor\n",
      "5.94 2.77 4.26 1.33 Iris-versicolor\n",
      "4.90 2.20 4.50 1.40 Iris-virginica\n",
      "7.90 3.80 6.90 2.50 Iris-virginica\n",
      "6.59 2.97 5.55 2.03 Iris-virginica\n"
     ]
    }
   ],
   "source": [
    "# print(type(setosa.describe()))\n",
    "df_set=setosa.describe()\n",
    "df_ver=versicolor.describe()\n",
    "df_vig=virginica.describe()\n",
    "\n",
    "for i in df_set.iloc[3].values:\n",
    "    print(format(i, '.2f'), end=' ')\n",
    "print('Iris-setosa')\n",
    "\n",
    "for i in df_set.iloc[7].values:\n",
    "    print(format(i, '.2f'), end=' ')\n",
    "print('Iris-setosa')\n",
    "\n",
    "for i in df_set.iloc[1].values:\n",
    "    print(format(i, '.2f'), end=' ')\n",
    "print('Iris-setosa')\n",
    "\n",
    "\n",
    "for i in df_ver.iloc[3].values:\n",
    "    print(format(i, '.2f'), end=' ')\n",
    "print('Iris-versicolor')\n",
    "\n",
    "for i in df_ver.iloc[7].values:\n",
    "    print(format(i, '.2f'), end=' ')\n",
    "print('Iris-versicolor')\n",
    "\n",
    "for i in df_ver.iloc[1].values:\n",
    "    print(format(i, '.2f'), end=' ')\n",
    "print('Iris-versicolor')\n",
    "\n",
    "for i in df_vig.iloc[3].values:\n",
    "    print(format(i, '.2f'), end=' ')\n",
    "print('Iris-virginica')\n",
    "\n",
    "for i in df_vig.iloc[7].values:\n",
    "    print(format(i, '.2f'), end=' ')\n",
    "print('Iris-virginica')\n",
    "\n",
    "for i in df_vig.iloc[1].values:\n",
    "    print(format(i, '.2f'), end=' ')\n",
    "print('Iris-virginica')\n",
    "\n",
    "\n",
    "\n",
    "# print(*(format(df_set.iloc[3].values, '.2f')),'Iris-setosa')\n",
    "# print(*(format(df_set.iloc[7].values, '.2f')),'Iris-setosa')\n",
    "# print(*(format(df_set.iloc[1].values, '.2f')),'Iris-setosa')\n",
    "\n",
    "# print(*(format(df_ver.iloc[3].values, '.2f')),'Iris-versicolor')\n",
    "# print(*(format(df_ver.iloc[7].values, '.2f')),'Iris-versicolor')\n",
    "# print(*(format(df_ver.iloc[1].values, '.2f')),'Iris-versicolor')\n",
    "\n",
    "# print(*(format(df_vig.iloc[3].values, '.2f')),'Iris-virginica')\n",
    "# print(*(format(df_vig.iloc[7].values, '.2f')),'Iris-virginica')\n",
    "# print(*(format(df_vig.iloc[1].values, '.2f')),'Iris-virginica')"
   ]
  },
  {
   "cell_type": "code",
   "execution_count": 49,
   "metadata": {},
   "outputs": [
    {
     "name": "stdout",
     "output_type": "stream",
     "text": [
      "[[4.3 2.3 1.  0.1]]\n"
     ]
    }
   ],
   "source": [
    "print(df_set.iloc[[3]].values)\n"
   ]
  }
 ],
 "metadata": {
  "kernelspec": {
   "display_name": "Python 3",
   "language": "python",
   "name": "python3"
  },
  "language_info": {
   "codemirror_mode": {
    "name": "ipython",
    "version": 3
   },
   "file_extension": ".py",
   "mimetype": "text/x-python",
   "name": "python",
   "nbconvert_exporter": "python",
   "pygments_lexer": "ipython3",
   "version": "3.6.4"
  }
 },
 "nbformat": 4,
 "nbformat_minor": 2
}
