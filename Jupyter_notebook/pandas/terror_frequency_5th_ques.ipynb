{
 "cells": [
  {
   "cell_type": "code",
   "execution_count": 2,
   "metadata": {},
   "outputs": [],
   "source": [
    "import numpy as np\n",
    "import pandas as pd\n",
    "from numpy import logical_or\n",
    "terror=pd.read_csv(\"C:\\\\Users\\\\Sahil\\\\Downloads\\\\terrorismData.csv\")\n",
    "\n",
    "\n",
    "df=terror.copy()"
   ]
  },
  {
   "cell_type": "code",
   "execution_count": 3,
   "metadata": {},
   "outputs": [
    {
     "data": {
      "text/plain": [
       "(11960, 17)"
      ]
     },
     "execution_count": 3,
     "metadata": {},
     "output_type": "execute_result"
    }
   ],
   "source": [
    "df_india=df[df['Country']=='India']\n",
    "df_india.shape"
   ]
  },
  {
   "cell_type": "code",
   "execution_count": 4,
   "metadata": {},
   "outputs": [],
   "source": [
    "min=df['Year'].min()"
   ]
  },
  {
   "cell_type": "code",
   "execution_count": 5,
   "metadata": {},
   "outputs": [
    {
     "name": "stdout",
     "output_type": "stream",
     "text": [
      "2017\n"
     ]
    }
   ],
   "source": [
    "max=df['Year'].max()\n",
    "print(max)"
   ]
  },
  {
   "cell_type": "code",
   "execution_count": 6,
   "metadata": {},
   "outputs": [
    {
     "name": "stdout",
     "output_type": "stream",
     "text": [
      "48\n"
     ]
    }
   ],
   "source": [
    "total_yrs=max-min+1\n",
    "print(total_yrs)"
   ]
  },
  {
   "cell_type": "code",
   "execution_count": 7,
   "metadata": {},
   "outputs": [],
   "source": [
    "def f(s):\n",
    "    return str(s)"
   ]
  },
  {
   "cell_type": "code",
   "execution_count": 11,
   "metadata": {},
   "outputs": [],
   "source": [
    "df['Year']=df['Year'].apply(f)"
   ]
  },
  {
   "cell_type": "code",
   "execution_count": 14,
   "metadata": {},
   "outputs": [],
   "source": [
    "total_yrs=df['Year'].describe().loc['unique']"
   ]
  },
  {
   "cell_type": "code",
   "execution_count": null,
   "metadata": {},
   "outputs": [],
   "source": []
  },
  {
   "cell_type": "code",
   "execution_count": 15,
   "metadata": {},
   "outputs": [],
   "source": [
    "# df_india['Killed'].fillna(0,inplace=True)\n",
    "# df_india['Wounded'].fillna(0,inplace=True)"
   ]
  },
  {
   "cell_type": "code",
   "execution_count": 16,
   "metadata": {},
   "outputs": [
    {
     "name": "stderr",
     "output_type": "stream",
     "text": [
      "C:\\Users\\Sahil\\Anaconda3\\lib\\site-packages\\ipykernel_launcher.py:1: SettingWithCopyWarning: \n",
      "A value is trying to be set on a copy of a slice from a DataFrame.\n",
      "Try using .loc[row_indexer,col_indexer] = value instead\n",
      "\n",
      "See the caveats in the documentation: http://pandas.pydata.org/pandas-docs/stable/indexing.html#indexing-view-versus-copy\n",
      "  \"\"\"Entry point for launching an IPython kernel.\n"
     ]
    }
   ],
   "source": [
    "df_india['cas']=df_india['Killed']+df_india['Wounded']"
   ]
  },
  {
   "cell_type": "code",
   "execution_count": 17,
   "metadata": {},
   "outputs": [
    {
     "data": {
      "text/html": [
       "<div>\n",
       "<style scoped>\n",
       "    .dataframe tbody tr th:only-of-type {\n",
       "        vertical-align: middle;\n",
       "    }\n",
       "\n",
       "    .dataframe tbody tr th {\n",
       "        vertical-align: top;\n",
       "    }\n",
       "\n",
       "    .dataframe thead th {\n",
       "        text-align: right;\n",
       "    }\n",
       "</style>\n",
       "<table border=\"1\" class=\"dataframe\">\n",
       "  <thead>\n",
       "    <tr style=\"text-align: right;\">\n",
       "      <th></th>\n",
       "      <th>Year</th>\n",
       "      <th>Month</th>\n",
       "      <th>Day</th>\n",
       "      <th>Latitude</th>\n",
       "      <th>Longitude</th>\n",
       "      <th>Killed</th>\n",
       "      <th>Wounded</th>\n",
       "      <th>cas</th>\n",
       "    </tr>\n",
       "  </thead>\n",
       "  <tbody>\n",
       "    <tr>\n",
       "      <th>count</th>\n",
       "      <td>11960.000000</td>\n",
       "      <td>11960.000000</td>\n",
       "      <td>11960.000000</td>\n",
       "      <td>11801.000000</td>\n",
       "      <td>11801.000000</td>\n",
       "      <td>11740.000000</td>\n",
       "      <td>11506.000000</td>\n",
       "      <td>11490.000000</td>\n",
       "    </tr>\n",
       "    <tr>\n",
       "      <th>mean</th>\n",
       "      <td>2006.248411</td>\n",
       "      <td>6.439047</td>\n",
       "      <td>15.624415</td>\n",
       "      <td>25.947957</td>\n",
       "      <td>82.788312</td>\n",
       "      <td>1.647445</td>\n",
       "      <td>2.518686</td>\n",
       "      <td>4.099913</td>\n",
       "    </tr>\n",
       "    <tr>\n",
       "      <th>std</th>\n",
       "      <td>10.096520</td>\n",
       "      <td>3.323835</td>\n",
       "      <td>8.778965</td>\n",
       "      <td>5.674857</td>\n",
       "      <td>7.039908</td>\n",
       "      <td>4.681342</td>\n",
       "      <td>11.344047</td>\n",
       "      <td>14.401034</td>\n",
       "    </tr>\n",
       "    <tr>\n",
       "      <th>min</th>\n",
       "      <td>1972.000000</td>\n",
       "      <td>1.000000</td>\n",
       "      <td>0.000000</td>\n",
       "      <td>8.169375</td>\n",
       "      <td>68.775724</td>\n",
       "      <td>0.000000</td>\n",
       "      <td>0.000000</td>\n",
       "      <td>0.000000</td>\n",
       "    </tr>\n",
       "    <tr>\n",
       "      <th>25%</th>\n",
       "      <td>1999.000000</td>\n",
       "      <td>4.000000</td>\n",
       "      <td>8.000000</td>\n",
       "      <td>22.585272</td>\n",
       "      <td>75.341218</td>\n",
       "      <td>0.000000</td>\n",
       "      <td>0.000000</td>\n",
       "      <td>0.000000</td>\n",
       "    </tr>\n",
       "    <tr>\n",
       "      <th>50%</th>\n",
       "      <td>2010.000000</td>\n",
       "      <td>6.000000</td>\n",
       "      <td>15.000000</td>\n",
       "      <td>25.272700</td>\n",
       "      <td>81.866144</td>\n",
       "      <td>0.000000</td>\n",
       "      <td>0.000000</td>\n",
       "      <td>1.000000</td>\n",
       "    </tr>\n",
       "    <tr>\n",
       "      <th>75%</th>\n",
       "      <td>2014.000000</td>\n",
       "      <td>9.000000</td>\n",
       "      <td>23.000000</td>\n",
       "      <td>31.147131</td>\n",
       "      <td>88.352341</td>\n",
       "      <td>1.000000</td>\n",
       "      <td>1.000000</td>\n",
       "      <td>3.000000</td>\n",
       "    </tr>\n",
       "    <tr>\n",
       "      <th>max</th>\n",
       "      <td>2017.000000</td>\n",
       "      <td>12.000000</td>\n",
       "      <td>31.000000</td>\n",
       "      <td>34.655639</td>\n",
       "      <td>96.644737</td>\n",
       "      <td>188.000000</td>\n",
       "      <td>817.000000</td>\n",
       "      <td>1005.000000</td>\n",
       "    </tr>\n",
       "  </tbody>\n",
       "</table>\n",
       "</div>"
      ],
      "text/plain": [
       "               Year         Month           Day      Latitude     Longitude  \\\n",
       "count  11960.000000  11960.000000  11960.000000  11801.000000  11801.000000   \n",
       "mean    2006.248411      6.439047     15.624415     25.947957     82.788312   \n",
       "std       10.096520      3.323835      8.778965      5.674857      7.039908   \n",
       "min     1972.000000      1.000000      0.000000      8.169375     68.775724   \n",
       "25%     1999.000000      4.000000      8.000000     22.585272     75.341218   \n",
       "50%     2010.000000      6.000000     15.000000     25.272700     81.866144   \n",
       "75%     2014.000000      9.000000     23.000000     31.147131     88.352341   \n",
       "max     2017.000000     12.000000     31.000000     34.655639     96.644737   \n",
       "\n",
       "             Killed       Wounded           cas  \n",
       "count  11740.000000  11506.000000  11490.000000  \n",
       "mean       1.647445      2.518686      4.099913  \n",
       "std        4.681342     11.344047     14.401034  \n",
       "min        0.000000      0.000000      0.000000  \n",
       "25%        0.000000      0.000000      0.000000  \n",
       "50%        0.000000      0.000000      1.000000  \n",
       "75%        1.000000      1.000000      3.000000  \n",
       "max      188.000000    817.000000   1005.000000  "
      ]
     },
     "execution_count": 17,
     "metadata": {},
     "output_type": "execute_result"
    }
   ],
   "source": [
    "df_india.describe()"
   ]
  },
  {
   "cell_type": "code",
   "execution_count": 18,
   "metadata": {},
   "outputs": [
    {
     "data": {
      "text/html": [
       "<div>\n",
       "<style scoped>\n",
       "    .dataframe tbody tr th:only-of-type {\n",
       "        vertical-align: middle;\n",
       "    }\n",
       "\n",
       "    .dataframe tbody tr th {\n",
       "        vertical-align: top;\n",
       "    }\n",
       "\n",
       "    .dataframe thead th {\n",
       "        text-align: right;\n",
       "    }\n",
       "</style>\n",
       "<table border=\"1\" class=\"dataframe\">\n",
       "  <thead>\n",
       "    <tr style=\"text-align: right;\">\n",
       "      <th></th>\n",
       "      <th>Year</th>\n",
       "      <th>Month</th>\n",
       "      <th>Day</th>\n",
       "      <th>Latitude</th>\n",
       "      <th>Longitude</th>\n",
       "      <th>Killed</th>\n",
       "      <th>Wounded</th>\n",
       "      <th>cas</th>\n",
       "    </tr>\n",
       "  </thead>\n",
       "  <tbody>\n",
       "    <tr>\n",
       "      <th>count</th>\n",
       "      <td>2454.000000</td>\n",
       "      <td>2454.000000</td>\n",
       "      <td>2454.000000</td>\n",
       "      <td>2454.000000</td>\n",
       "      <td>2454.000000</td>\n",
       "      <td>2427.000000</td>\n",
       "      <td>2370.000000</td>\n",
       "      <td>2366.000000</td>\n",
       "    </tr>\n",
       "    <tr>\n",
       "      <th>mean</th>\n",
       "      <td>2004.678484</td>\n",
       "      <td>6.567237</td>\n",
       "      <td>15.625917</td>\n",
       "      <td>33.870649</td>\n",
       "      <td>74.917442</td>\n",
       "      <td>1.680676</td>\n",
       "      <td>3.615612</td>\n",
       "      <td>5.185123</td>\n",
       "    </tr>\n",
       "    <tr>\n",
       "      <th>std</th>\n",
       "      <td>9.140952</td>\n",
       "      <td>3.154301</td>\n",
       "      <td>8.803619</td>\n",
       "      <td>0.417383</td>\n",
       "      <td>0.552969</td>\n",
       "      <td>3.537779</td>\n",
       "      <td>8.354403</td>\n",
       "      <td>9.938179</td>\n",
       "    </tr>\n",
       "    <tr>\n",
       "      <th>min</th>\n",
       "      <td>1984.000000</td>\n",
       "      <td>1.000000</td>\n",
       "      <td>0.000000</td>\n",
       "      <td>32.371698</td>\n",
       "      <td>73.860665</td>\n",
       "      <td>0.000000</td>\n",
       "      <td>0.000000</td>\n",
       "      <td>0.000000</td>\n",
       "    </tr>\n",
       "    <tr>\n",
       "      <th>25%</th>\n",
       "      <td>1997.000000</td>\n",
       "      <td>4.000000</td>\n",
       "      <td>8.000000</td>\n",
       "      <td>33.732216</td>\n",
       "      <td>74.721870</td>\n",
       "      <td>0.000000</td>\n",
       "      <td>0.000000</td>\n",
       "      <td>0.000000</td>\n",
       "    </tr>\n",
       "    <tr>\n",
       "      <th>50%</th>\n",
       "      <td>2004.000000</td>\n",
       "      <td>7.000000</td>\n",
       "      <td>15.500000</td>\n",
       "      <td>34.010531</td>\n",
       "      <td>74.789902</td>\n",
       "      <td>0.000000</td>\n",
       "      <td>0.000000</td>\n",
       "      <td>1.000000</td>\n",
       "    </tr>\n",
       "    <tr>\n",
       "      <th>75%</th>\n",
       "      <td>2014.000000</td>\n",
       "      <td>9.000000</td>\n",
       "      <td>23.000000</td>\n",
       "      <td>34.083740</td>\n",
       "      <td>75.072066</td>\n",
       "      <td>2.000000</td>\n",
       "      <td>3.000000</td>\n",
       "      <td>6.000000</td>\n",
       "    </tr>\n",
       "    <tr>\n",
       "      <th>max</th>\n",
       "      <td>2017.000000</td>\n",
       "      <td>12.000000</td>\n",
       "      <td>31.000000</td>\n",
       "      <td>34.655639</td>\n",
       "      <td>78.656086</td>\n",
       "      <td>35.000000</td>\n",
       "      <td>100.000000</td>\n",
       "      <td>129.000000</td>\n",
       "    </tr>\n",
       "  </tbody>\n",
       "</table>\n",
       "</div>"
      ],
      "text/plain": [
       "              Year        Month          Day     Latitude    Longitude  \\\n",
       "count  2454.000000  2454.000000  2454.000000  2454.000000  2454.000000   \n",
       "mean   2004.678484     6.567237    15.625917    33.870649    74.917442   \n",
       "std       9.140952     3.154301     8.803619     0.417383     0.552969   \n",
       "min    1984.000000     1.000000     0.000000    32.371698    73.860665   \n",
       "25%    1997.000000     4.000000     8.000000    33.732216    74.721870   \n",
       "50%    2004.000000     7.000000    15.500000    34.010531    74.789902   \n",
       "75%    2014.000000     9.000000    23.000000    34.083740    75.072066   \n",
       "max    2017.000000    12.000000    31.000000    34.655639    78.656086   \n",
       "\n",
       "            Killed      Wounded          cas  \n",
       "count  2427.000000  2370.000000  2366.000000  \n",
       "mean      1.680676     3.615612     5.185123  \n",
       "std       3.537779     8.354403     9.938179  \n",
       "min       0.000000     0.000000     0.000000  \n",
       "25%       0.000000     0.000000     0.000000  \n",
       "50%       0.000000     0.000000     1.000000  \n",
       "75%       2.000000     3.000000     6.000000  \n",
       "max      35.000000   100.000000   129.000000  "
      ]
     },
     "execution_count": 18,
     "metadata": {},
     "output_type": "execute_result"
    }
   ],
   "source": [
    "df_india_jk=df_india[df_india['State']=='Jammu and Kashmir']\n",
    "df_india_jk.shape\n",
    "df_india_jk.describe()"
   ]
  },
  {
   "cell_type": "code",
   "execution_count": 24,
   "metadata": {},
   "outputs": [],
   "source": [
    "df_india_red=df_india[(df_india['State']=='Jharkhand') | (df_india['State']=='Odisha') | (df_india['State']=='Andhra Pradesh') | (df_india['State']=='Chhattisgarh')]"
   ]
  },
  {
   "cell_type": "code",
   "execution_count": 25,
   "metadata": {},
   "outputs": [
    {
     "data": {
      "text/html": [
       "<div>\n",
       "<style scoped>\n",
       "    .dataframe tbody tr th:only-of-type {\n",
       "        vertical-align: middle;\n",
       "    }\n",
       "\n",
       "    .dataframe tbody tr th {\n",
       "        vertical-align: top;\n",
       "    }\n",
       "\n",
       "    .dataframe thead th {\n",
       "        text-align: right;\n",
       "    }\n",
       "</style>\n",
       "<table border=\"1\" class=\"dataframe\">\n",
       "  <thead>\n",
       "    <tr style=\"text-align: right;\">\n",
       "      <th></th>\n",
       "      <th>Year</th>\n",
       "      <th>Month</th>\n",
       "      <th>Day</th>\n",
       "      <th>Latitude</th>\n",
       "      <th>Longitude</th>\n",
       "      <th>Killed</th>\n",
       "      <th>Wounded</th>\n",
       "      <th>cas</th>\n",
       "    </tr>\n",
       "  </thead>\n",
       "  <tbody>\n",
       "    <tr>\n",
       "      <th>count</th>\n",
       "      <td>2545.000000</td>\n",
       "      <td>2545.000000</td>\n",
       "      <td>2545.000000</td>\n",
       "      <td>2545.000000</td>\n",
       "      <td>2545.000000</td>\n",
       "      <td>2500.000000</td>\n",
       "      <td>2450.000000</td>\n",
       "      <td>2446.000000</td>\n",
       "    </tr>\n",
       "    <tr>\n",
       "      <th>mean</th>\n",
       "      <td>2012.094303</td>\n",
       "      <td>6.531631</td>\n",
       "      <td>15.380354</td>\n",
       "      <td>20.561792</td>\n",
       "      <td>82.903770</td>\n",
       "      <td>1.210000</td>\n",
       "      <td>1.062449</td>\n",
       "      <td>2.227310</td>\n",
       "    </tr>\n",
       "    <tr>\n",
       "      <th>std</th>\n",
       "      <td>5.230135</td>\n",
       "      <td>3.434798</td>\n",
       "      <td>8.664561</td>\n",
       "      <td>2.479515</td>\n",
       "      <td>2.102370</td>\n",
       "      <td>3.898202</td>\n",
       "      <td>4.799340</td>\n",
       "      <td>7.198148</td>\n",
       "    </tr>\n",
       "    <tr>\n",
       "      <th>min</th>\n",
       "      <td>1979.000000</td>\n",
       "      <td>1.000000</td>\n",
       "      <td>0.000000</td>\n",
       "      <td>13.201381</td>\n",
       "      <td>77.281460</td>\n",
       "      <td>0.000000</td>\n",
       "      <td>0.000000</td>\n",
       "      <td>0.000000</td>\n",
       "    </tr>\n",
       "    <tr>\n",
       "      <th>25%</th>\n",
       "      <td>2010.000000</td>\n",
       "      <td>4.000000</td>\n",
       "      <td>8.000000</td>\n",
       "      <td>18.672255</td>\n",
       "      <td>81.255072</td>\n",
       "      <td>0.000000</td>\n",
       "      <td>0.000000</td>\n",
       "      <td>0.000000</td>\n",
       "    </tr>\n",
       "    <tr>\n",
       "      <th>50%</th>\n",
       "      <td>2013.000000</td>\n",
       "      <td>6.000000</td>\n",
       "      <td>15.000000</td>\n",
       "      <td>19.723535</td>\n",
       "      <td>82.222665</td>\n",
       "      <td>0.000000</td>\n",
       "      <td>0.000000</td>\n",
       "      <td>1.000000</td>\n",
       "    </tr>\n",
       "    <tr>\n",
       "      <th>75%</th>\n",
       "      <td>2016.000000</td>\n",
       "      <td>10.000000</td>\n",
       "      <td>23.000000</td>\n",
       "      <td>23.192002</td>\n",
       "      <td>84.658701</td>\n",
       "      <td>1.000000</td>\n",
       "      <td>0.000000</td>\n",
       "      <td>2.000000</td>\n",
       "    </tr>\n",
       "    <tr>\n",
       "      <th>max</th>\n",
       "      <td>2017.000000</td>\n",
       "      <td>12.000000</td>\n",
       "      <td>31.000000</td>\n",
       "      <td>25.030000</td>\n",
       "      <td>87.850064</td>\n",
       "      <td>82.000000</td>\n",
       "      <td>100.000000</td>\n",
       "      <td>140.000000</td>\n",
       "    </tr>\n",
       "  </tbody>\n",
       "</table>\n",
       "</div>"
      ],
      "text/plain": [
       "              Year        Month          Day     Latitude    Longitude  \\\n",
       "count  2545.000000  2545.000000  2545.000000  2545.000000  2545.000000   \n",
       "mean   2012.094303     6.531631    15.380354    20.561792    82.903770   \n",
       "std       5.230135     3.434798     8.664561     2.479515     2.102370   \n",
       "min    1979.000000     1.000000     0.000000    13.201381    77.281460   \n",
       "25%    2010.000000     4.000000     8.000000    18.672255    81.255072   \n",
       "50%    2013.000000     6.000000    15.000000    19.723535    82.222665   \n",
       "75%    2016.000000    10.000000    23.000000    23.192002    84.658701   \n",
       "max    2017.000000    12.000000    31.000000    25.030000    87.850064   \n",
       "\n",
       "            Killed      Wounded          cas  \n",
       "count  2500.000000  2450.000000  2446.000000  \n",
       "mean      1.210000     1.062449     2.227310  \n",
       "std       3.898202     4.799340     7.198148  \n",
       "min       0.000000     0.000000     0.000000  \n",
       "25%       0.000000     0.000000     0.000000  \n",
       "50%       0.000000     0.000000     1.000000  \n",
       "75%       1.000000     0.000000     2.000000  \n",
       "max      82.000000   100.000000   140.000000  "
      ]
     },
     "execution_count": 25,
     "metadata": {},
     "output_type": "execute_result"
    }
   ],
   "source": [
    "df_india_red.shape\n",
    "df_india_red.describe()"
   ]
  },
  {
   "cell_type": "code",
   "execution_count": 26,
   "metadata": {},
   "outputs": [
    {
     "name": "stdout",
     "output_type": "stream",
     "text": [
      "115 261\n"
     ]
    }
   ],
   "source": [
    "print(int(df_india_red['cas'].sum()//total_yrs),int(df_india_jk['cas'].sum()//total_yrs))"
   ]
  },
  {
   "cell_type": "code",
   "execution_count": null,
   "metadata": {},
   "outputs": [],
   "source": []
  },
  {
   "cell_type": "code",
   "execution_count": null,
   "metadata": {},
   "outputs": [],
   "source": []
  }
 ],
 "metadata": {
  "kernelspec": {
   "display_name": "Python 3",
   "language": "python",
   "name": "python3"
  },
  "language_info": {
   "codemirror_mode": {
    "name": "ipython",
    "version": 3
   },
   "file_extension": ".py",
   "mimetype": "text/x-python",
   "name": "python",
   "nbconvert_exporter": "python",
   "pygments_lexer": "ipython3",
   "version": "3.6.4"
  }
 },
 "nbformat": 4,
 "nbformat_minor": 2
}
